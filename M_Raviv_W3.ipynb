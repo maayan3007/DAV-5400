{
 "cells": [
  {
   "cell_type": "code",
   "execution_count": 4,
   "metadata": {},
   "outputs": [
    {
     "name": "stdout",
     "output_type": "stream",
     "text": [
      "['unacc', 'acc', 'unacc', 'acc', 'unacc', 'unacc', 'vgood', 'unacc', 'unacc', 'unacc', 'unacc', 'acc', 'acc', 'unacc', 'unacc', 'unacc', 'unacc', 'acc', 'vgood', 'unacc', 'unacc', 'unacc', 'unacc', 'unacc', 'unacc', 'unacc', 'unacc', 'unacc', 'unacc', 'unacc', 'acc', 'unacc', 'unacc', 'unacc', 'unacc']\n"
     ]
    }
   ],
   "source": [
    "import csv\n",
    "\n",
    "# creating seven distinct lists for automobile attributes\n",
    "price = []\n",
    "maintenance_cost = []\n",
    "number_of_doors = []\n",
    "number_of_passengers = []\n",
    "luggage_capacity = []\n",
    "safety_rating = []\n",
    "classification_of_vehicle = []\n",
    "\n",
    "with open('C:\\Python/cars-sample35.txt') as csvfile:\n",
    "  readCSV = csv.reader(csvfile)\n",
    "  for row in readCSV:\n",
    "    price.append(row[0])\n",
    "    maintenance_cost.append(row[1])\n",
    "    number_of_doors.append(row[2])\n",
    "    number_of_passengers.append(row[3])\n",
    "    luggage_capacity.append(row[4])\n",
    "    safety_rating.append(row[5])\n",
    "    classification_of_vehicle.append(row[6])\n",
    "    \n",
    "# print (classification_of_vehicle) \n",
    "print (classification_of_vehicle)"
   ]
  },
  {
   "cell_type": "code",
   "execution_count": 6,
   "metadata": {},
   "outputs": [
    {
     "name": "stdout",
     "output_type": "stream",
     "text": [
      "[6, 16, 20, 23, 26, 29]\n"
     ]
    }
   ],
   "source": [
    "# first task\n",
    "\n",
    "# using enumerate to extract the index in price\n",
    "price_rating_med = [index for index, value in enumerate(price) if value == 'med']\n",
    "print (price_rating_med)"
   ]
  },
  {
   "cell_type": "code",
   "execution_count": 7,
   "metadata": {},
   "outputs": [
    {
     "name": "stdout",
     "output_type": "stream",
     "text": [
      "['more', '2', '2', '2', '4', '2']\n"
     ]
    }
   ],
   "source": [
    "# second task\n",
    "\n",
    "number_of_passengers_value = [number_of_passengers[value] for value in price_rating_med]\n",
    "print (number_of_passengers_value)"
   ]
  },
  {
   "cell_type": "code",
   "execution_count": 8,
   "metadata": {},
   "outputs": [
    {
     "name": "stdout",
     "output_type": "stream",
     "text": [
      "[0, 1, 2, 27, 31]\n"
     ]
    }
   ],
   "source": [
    "# third task \n",
    "\n",
    "# creating a list of index values for each automobile with price rating of high\n",
    "price_rating_high = [index for index, value in enumerate(price) if value == 'high']\n",
    "# print (price_rating_high)\n",
    "\n",
    "# creating a new list that parses price_rating_high\n",
    "# and checks for every value if the value of maintenance_cost is not low\n",
    "price_high_maintenance_not_low = [value for value in price_rating_high if maintenance_cost[value] != 'low']\n",
    "print (price_high_maintenance_not_low)"
   ]
  },
  {
   "cell_type": "code",
   "execution_count": 9,
   "metadata": {},
   "outputs": [
    {
     "name": "stdout",
     "output_type": "stream",
     "text": [
      "[1, 2, 3, 'A', 'B', 'C', 4, 5, 'D', 'E']\n"
     ]
    }
   ],
   "source": [
    "# forth task\n",
    "\n",
    "nlist = [ [1, 2, 3], ['A', 'B', 'C'], [4, 5], ['D', 'E'] ]\n",
    "# nested for loops using list comprehension\n",
    "flist = [y for x in nlist for y in x]\n",
    "print (flist)"
   ]
  },
  {
   "cell_type": "code",
   "execution_count": 10,
   "metadata": {},
   "outputs": [
    {
     "name": "stdout",
     "output_type": "stream",
     "text": [
      "vhigh\n",
      "med\n"
     ]
    }
   ],
   "source": [
    "# fifth task\n",
    "\n",
    "def makedict(mylist, x):\n",
    "    # checking that x does not exceed the length of the list\n",
    "    if x > len(mylist):\n",
    "        return \"x is greater than list's length!\"\n",
    "    newdict = {}\n",
    "    # initializing key \n",
    "    index = 0\n",
    "    key = 'A' + str(index)\n",
    "    # taking the first x items of mylist\n",
    "    for item in mylist[:x]:\n",
    "        # inserting into newdict\n",
    "        newdict[key] = item\n",
    "        # updating index and key\n",
    "        index += 1\n",
    "        key = 'A' + str(index)\n",
    "    return (newdict)\n",
    "\n",
    "# creating new dict objects of price and luggage lists taking first 7 elements of each list\n",
    "pricedict = makedict(price, 7)\n",
    "luggagedict = makedict(luggage_capacity, 7)\n",
    "\n",
    "# print (pricedict)\n",
    "# print (luggagedict)\n",
    "\n",
    "# printing both dict object values with key 'A4'\n",
    "print (pricedict['A4'])\n",
    "print (luggagedict['A4'])"
   ]
  },
  {
   "cell_type": "code",
   "execution_count": null,
   "metadata": {},
   "outputs": [],
   "source": []
  }
 ],
 "metadata": {
  "kernelspec": {
   "display_name": "Python 3",
   "language": "python",
   "name": "python3"
  },
  "language_info": {
   "codemirror_mode": {
    "name": "ipython",
    "version": 3
   },
   "file_extension": ".py",
   "mimetype": "text/x-python",
   "name": "python",
   "nbconvert_exporter": "python",
   "pygments_lexer": "ipython3",
   "version": "3.7.1"
  }
 },
 "nbformat": 4,
 "nbformat_minor": 2
}
