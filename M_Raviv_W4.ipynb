{
 "cells": [
  {
   "cell_type": "markdown",
   "metadata": {},
   "source": [
    "Assigment 4- DAV 5400"
   ]
  },
  {
   "cell_type": "markdown",
   "metadata": {
    "colab_type": "text",
    "id": "MbMISKreuLS9"
   },
   "source": [
    "Problem1"
   ]
  },
  {
   "cell_type": "code",
   "execution_count": null,
   "metadata": {
    "colab": {},
    "colab_type": "code",
    "id": "1X9BP9bCuGJu"
   },
   "outputs": [],
   "source": [
    "import numpy as np\n",
    "\n",
    "a = np.array([1, 2, 3, 2, 3, 4, 3, 4, 5, 6])\n",
    "b = np.array([7, 2, 10, 2, 7, 4, 9, 4, 9, 8])\n",
    "\n",
    "#using numPy\n",
    "print (np.intersect1d(a,b))\n",
    "\n",
    "#without numPy\n",
    "print (set(a).intersection(b))"
   ]
  },
  {
   "cell_type": "markdown",
   "metadata": {
    "colab_type": "text",
    "id": "iFuxNGyyuPzd"
   },
   "source": [
    "Problem 2"
   ]
  },
  {
   "cell_type": "code",
   "execution_count": 8,
   "metadata": {
    "colab": {},
    "colab_type": "code",
    "id": "VAZyCng8uR72"
   },
   "outputs": [
    {
     "name": "stdout",
     "output_type": "stream",
     "text": [
      "[[ 1.  6. 11.]\n",
      " [ 2.  7. 12.]\n",
      " [ 3.  8. 13.]\n",
      " [ 4.  9. 14.]\n",
      " [ 5. 10. 15.]]\n"
     ]
    }
   ],
   "source": [
    "import numpy as np\n",
    "\n",
    "rows = 3\n",
    "columns = 5\n",
    "counter = 1\n",
    "\n",
    "a = np.zeros((columns,rows))\n",
    "\n",
    "for j in range(rows):\n",
    "    for i in range(columns):\n",
    "        a[i][j] = counter\n",
    "        counter += 1\n",
    "print (a)"
   ]
  },
  {
   "cell_type": "markdown",
   "metadata": {
    "colab_type": "text",
    "id": "uoxikzIouT5d"
   },
   "source": [
    "Problem 3"
   ]
  },
  {
   "cell_type": "code",
   "execution_count": null,
   "metadata": {
    "colab": {},
    "colab_type": "code",
    "id": "ujldNoUBuVt9"
   },
   "outputs": [],
   "source": [
    "import numpy as np\n",
    "\n",
    "a = np.array([12, 5, 7, 15, 3, 1, 8])\n",
    "b = np.array([14, 6, 3, 11, 19, 12, 5])\n",
    "\n",
    "a = [x for x in a if x not in b]\n",
    "print (a)"
   ]
  },
  {
   "cell_type": "markdown",
   "metadata": {
    "colab_type": "text",
    "id": "uve0QJkluW6G"
   },
   "source": [
    "Problem 4"
   ]
  },
  {
   "cell_type": "code",
   "execution_count": null,
   "metadata": {
    "colab": {},
    "colab_type": "code",
    "id": "JbHPZYvHtJT2"
   },
   "outputs": [],
   "source": [
    "from random import randint\n",
    "import numpy as np\n",
    "\n",
    "recorded_days = 1\n",
    "num_of_no_cycling_days = 0\n",
    "recorded_miles_array = [0]\n",
    "rand_flag = False\n",
    "\n",
    "while recorded_days < 36:\n",
    "    # 29h day if no 0 days yet\n",
    "    # if 1 zero day then 31st\n",
    "    # if 2 zero days then 33rd\n",
    "    # if 3 zero days then 35th\n",
    "    if (recorded_days == 29 and num_of_no_cycling_days == 0) or (\n",
    "            recorded_days == 31 and num_of_no_cycling_days == 1) or (\n",
    "            recorded_days == 33 and num_of_no_cycling_days == 2) or (\n",
    "            recorded_days == 35 and num_of_no_cycling_days == 3):\n",
    "        recorded_miles_array.append(recorded_miles_array[recorded_days - 1])\n",
    "        recorded_days += 1\n",
    "        num_of_no_cycling_days += 1\n",
    "    else:\n",
    "        if rand_flag:\n",
    "            last_record = int(recorded_miles_array[recorded_days - 1])\n",
    "            record_to_add = randint(last_record, last_record + 62)\n",
    "            recorded_miles_array.append(record_to_add)\n",
    "            recorded_days += 1\n",
    "            if record_to_add == last_record:\n",
    "                num_of_no_cycling_days += 1\n",
    "            continue\n",
    "\n",
    "        print(\"enter the record the cumulative miles for day {0}\".format(recorded_days))\n",
    "        cumulative_miles = input()\n",
    "        if cumulative_miles == 'rand':\n",
    "            rand_flag = True\n",
    "            continue\n",
    "        try:\n",
    "            val = int(cumulative_miles)\n",
    "        except ValueError:\n",
    "            print(\"That's not an int!\")\n",
    "            continue\n",
    "        # if recorded_days > 0:\n",
    "        if val >= recorded_miles_array[recorded_days - 1]:\n",
    "            recorded_miles_array.append(val)\n",
    "            if val == recorded_miles_array[recorded_days - 1]:\n",
    "                num_of_no_cycling_days += 1\n",
    "            recorded_days += 1\n",
    "        else:\n",
    "            print (\"you cant input a record which is less than the previous day\")\n",
    "\n",
    "print ('record array: ', recorded_miles_array)\n",
    "print ('miles rode per day array: ', np.diff(recorded_miles_array))\n",
    "\n"
   ]
  },
  {
   "cell_type": "markdown",
   "metadata": {},
   "source": [
    "Problem 5"
   ]
  },
  {
   "cell_type": "code",
   "execution_count": null,
   "metadata": {},
   "outputs": [],
   "source": [
    "import pandas\n",
    "import numpy as np\n",
    "\n",
    "# supress scientific notation\n",
    "np.set_printoptions(suppress = True)\n",
    "\n",
    "# read the data file from GitHub and convert to a NumPy ndarray object\n",
    "nyc_water = pandas.read_csv('https://raw.githubusercontent.com/jtopor/DAV-5400/master/Week4/Water_Consumption_In_The_New_York_City.csv').as_matrix()\n",
    "\n",
    "# verify you have an ndarray object\n",
    "type(nyc_water)\n",
    "\n"
   ]
  },
  {
   "cell_type": "code",
   "execution_count": null,
   "metadata": {},
   "outputs": [],
   "source": [
    "maxConsumption = nyc_water[0][2]\n",
    "for value in range(len(nyc_water)):\n",
    "  if maxConsumption <= nyc_water[value][2]:\n",
    "    maxConsumption = nyc_water[value][2]\n",
    "  \n",
    "print(\"max consumption: \", maxConsumption)\n",
    "\n"
   ]
  },
  {
   "cell_type": "code",
   "execution_count": null,
   "metadata": {},
   "outputs": [],
   "source": [
    "\n",
    "print(nyc_water[len(nyc_water) - 1][0] - nyc_water[0][0] +1 ,\"calender years\")"
   ]
  },
  {
   "cell_type": "code",
   "execution_count": null,
   "metadata": {},
   "outputs": [],
   "source": [
    "print(nyc_water[:,3])\n",
    "print(\"mean: \", np.mean(nyc_water[:,3], axis = 0),\"stdv: \", np.std(nyc_water[:,3], axis = 0))"
   ]
  },
  {
   "cell_type": "code",
   "execution_count": null,
   "metadata": {},
   "outputs": [],
   "source": [
    "pop_diff = np.diff(nyc_water[:,1])\n",
    "print(pop_diff)"
   ]
  }
 ],
 "metadata": {
  "colab": {
   "collapsed_sections": [],
   "name": "DAV-5400-Week4-Assignment-Problems1-4",
   "provenance": [],
   "version": "0.3.2"
  },
  "kernelspec": {
   "display_name": "Python 3",
   "language": "python",
   "name": "python3"
  },
  "language_info": {
   "codemirror_mode": {
    "name": "ipython",
    "version": 3
   },
   "file_extension": ".py",
   "mimetype": "text/x-python",
   "name": "python",
   "nbconvert_exporter": "python",
   "pygments_lexer": "ipython3",
   "version": "3.7.1"
  }
 },
 "nbformat": 4,
 "nbformat_minor": 1
}
