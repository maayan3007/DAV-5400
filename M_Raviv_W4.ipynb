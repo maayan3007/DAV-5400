{
 "cells": [
  {
   "cell_type": "markdown",
   "metadata": {},
   "source": [
    "Assigment 4- DAV 5400"
   ]
  },
  {
   "cell_type": "markdown",
   "metadata": {
    "colab_type": "text",
    "id": "MbMISKreuLS9"
   },
   "source": [
    "Problem1"
   ]
  },
  {
   "cell_type": "code",
   "execution_count": 7,
   "metadata": {
    "colab": {},
    "colab_type": "code",
    "id": "1X9BP9bCuGJu"
   },
   "outputs": [
    {
     "name": "stdout",
     "output_type": "stream",
     "text": [
      "[2 4]\n",
      "{2, 4}\n"
     ]
    }
   ],
   "source": [
    "import numpy as np\n",
    "\n",
    "a = np.array([1, 2, 3, 2, 3, 4, 3, 4, 5, 6])\n",
    "b = np.array([7, 2, 10, 2, 7, 4, 9, 4, 9, 8])\n",
    "\n",
    "#using numPy\n",
    "print (np.intersect1d(a,b))\n",
    "\n",
    "#without numPy\n",
    "print (set(a).intersection(b))"
   ]
  },
  {
   "cell_type": "markdown",
   "metadata": {
    "colab_type": "text",
    "id": "iFuxNGyyuPzd"
   },
   "source": [
    "Problem 2"
   ]
  },
  {
   "cell_type": "code",
   "execution_count": 2,
   "metadata": {
    "colab": {},
    "colab_type": "code",
    "id": "VAZyCng8uR72"
   },
   "outputs": [
    {
     "name": "stdout",
     "output_type": "stream",
     "text": [
      "[[ 1.  6. 11.]\n",
      " [ 2.  7. 12.]\n",
      " [ 3.  8. 13.]\n",
      " [ 4.  9. 14.]\n",
      " [ 5. 10. 15.]]\n"
     ]
    }
   ],
   "source": [
    "import numpy as np\n",
    "\n",
    "#define the array dimensions\n",
    "rows = 3\n",
    "columns = 5\n",
    "#define variable that will use as a counter and first attribute\n",
    "counter = 1\n",
    "\n",
    "#filling the array with zeros according to arrray size\n",
    "a = np.zeros((columns,rows))\n",
    "\n",
    "#allocate values in the array by using the counter\n",
    "for j in range(rows):\n",
    "    for i in range(columns):\n",
    "        a[i][j] = counter\n",
    "        counter += 1\n",
    "print (a)"
   ]
  },
  {
   "cell_type": "markdown",
   "metadata": {
    "colab_type": "text",
    "id": "uoxikzIouT5d"
   },
   "source": [
    "Problem 3"
   ]
  },
  {
   "cell_type": "code",
   "execution_count": 6,
   "metadata": {
    "colab": {},
    "colab_type": "code",
    "id": "ujldNoUBuVt9"
   },
   "outputs": [
    {
     "name": "stdout",
     "output_type": "stream",
     "text": [
      "[7, 15, 1, 8]\n"
     ]
    }
   ],
   "source": [
    "import numpy as np\n",
    "\n",
    "a = np.array([12, 5, 7, 15, 3, 1, 8])\n",
    "b = np.array([14, 6, 3, 11, 19, 12, 5])\n",
    "\n",
    "#for each value in array a append value if it's not in b array\n",
    "a = [x for x in a if x not in b]\n",
    "print (a)"
   ]
  },
  {
   "cell_type": "markdown",
   "metadata": {
    "colab_type": "text",
    "id": "uve0QJkluW6G"
   },
   "source": [
    "Problem 4"
   ]
  },
  {
   "cell_type": "code",
   "execution_count": 3,
   "metadata": {
    "colab": {},
    "colab_type": "code",
    "id": "JbHPZYvHtJT2"
   },
   "outputs": [
    {
     "name": "stdout",
     "output_type": "stream",
     "text": [
      "enter the record the cumulative miles for day 1\n",
      "random\n",
      "That's not an int!\n",
      "enter the record the cumulative miles for day 1\n",
      "rand\n",
      "record array:  [0, 40, 75, 94, 136, 143, 181, 195, 203, 260, 271, 323, 348, 388, 441, 503, 524, 526, 550, 586, 586, 602, 637, 672, 707, 719, 755, 770, 772, 830, 849, 849, 854, 854, 893, 893]\n",
      "miles rode per day array:  [40 35 19 42  7 38 14  8 57 11 52 25 40 53 62 21  2 24 36  0 16 35 35 35\n",
      " 12 36 15  2 58 19  0  5  0 39  0]\n"
     ]
    }
   ],
   "source": [
    "from random import randint\n",
    "import numpy as np\n",
    "\n",
    "#counter for number of cycels\n",
    "recorded_days = 1\n",
    "#counter for record no cycles days \n",
    "num_of_no_cycling_days = 0\n",
    "#define array for all cycles record cummulative\n",
    "recorded_miles_array = [0]\n",
    "rand_flag = False\n",
    "\n",
    "while recorded_days < 36:\n",
    "    # 29h day if no 0 days yet\n",
    "    # if 1 zero day then 31st\n",
    "    # if 2 zero days then 33rd\n",
    "    # if 3 zero days then 35th\n",
    "    if (recorded_days == 29 and num_of_no_cycling_days == 0) or (\n",
    "            recorded_days == 31 and num_of_no_cycling_days == 1) or (\n",
    "            recorded_days == 33 and num_of_no_cycling_days == 2) or (\n",
    "            recorded_days == 35 and num_of_no_cycling_days == 3):\n",
    "        #append to recorded miles array if it's zero day\n",
    "        recorded_miles_array.append(recorded_miles_array[recorded_days - 1])\n",
    "        recorded_days += 1\n",
    "        num_of_no_cycling_days += 1\n",
    "    else:\n",
    "        if rand_flag:\n",
    "            last_record = int(recorded_miles_array[recorded_days - 1])\n",
    "            record_to_add = randint(last_record, last_record + 62)\n",
    "            recorded_miles_array.append(record_to_add)\n",
    "            recorded_days += 1\n",
    "            if record_to_add == last_record:\n",
    "                num_of_no_cycling_days += 1\n",
    "            continue\n",
    "\n",
    "        print(\"enter the record the cumulative miles for day {0}\".format(recorded_days))\n",
    "        cumulative_miles = input()\n",
    "        if cumulative_miles == 'rand':\n",
    "            rand_flag = True\n",
    "            continue\n",
    "        try:\n",
    "            val = int(cumulative_miles)\n",
    "        except ValueError:\n",
    "            print(\"That's not an int!\")\n",
    "            continue\n",
    "        # if recorded_days > 0:\n",
    "        if val >= recorded_miles_array[recorded_days - 1]:\n",
    "            recorded_miles_array.append(val)\n",
    "            if val == recorded_miles_array[recorded_days - 1]:\n",
    "                num_of_no_cycling_days += 1\n",
    "            recorded_days += 1\n",
    "        else:\n",
    "            print (\"you cant input a record which is less than the previous day\")\n",
    "\n",
    "print ('record array: ', recorded_miles_array)\n",
    "#using np to print the diff function to show total miles per each day\n",
    "print ('miles rode per day array: ', np.diff(recorded_miles_array))\n",
    "\n"
   ]
  },
  {
   "cell_type": "markdown",
   "metadata": {},
   "source": [
    "Problem 5"
   ]
  },
  {
   "cell_type": "code",
   "execution_count": 13,
   "metadata": {},
   "outputs": [
    {
     "name": "stdout",
     "output_type": "stream",
     "text": [
      "[[   1979.  7102100.     1512.      213. ]\n",
      " [   1980.  7071639.     1506.      213. ]\n",
      " [   1981.  7089241.     1309.      185. ]\n",
      " [   1982.  7109105.     1382.      194. ]\n",
      " [   1983.  7181224.     1424.      198. ]\n",
      " [   1984.  7234514.     1465.      203. ]\n",
      " [   1985.  7274054.     1326.      182. ]\n",
      " [   1986.  7319246.     1351.      185. ]\n",
      " [   1987.  7342476.     1447.      197. ]\n",
      " [   1988.  7353719.     1484.      202. ]\n",
      " [   1989.  7344175.     1402.      191. ]\n",
      " [   1990.  7335650.     1424.      194. ]\n",
      " [   1991.  7374501.     1469.      199. ]\n",
      " [   1992.  7428944.     1369.      184. ]\n",
      " [   1993.  7506166.     1368.5     182. ]\n",
      " [   1994.  7570458.     1357.7     179. ]\n",
      " [   1995.  7633040.     1325.7     174. ]\n",
      " [   1996.  7697812.     1297.9     169. ]\n",
      " [   1997.  7773443.     1205.5     155. ]\n",
      " [   1998.  7858259.     1219.5     155. ]\n",
      " [   1999.  7947660.     1237.2     156. ]\n",
      " [   2000.  8008278.     1240.4     155. ]\n",
      " [   2001.  8024963.5    1184.      148. ]\n",
      " [   2002.  8041649.     1135.6     141. ]\n",
      " [   2003.  8058334.5    1093.7     136. ]\n",
      " [   2004.  8075020.     1099.5     136. ]\n",
      " [   2005.  8091705.5    1138.      141. ]\n",
      " [   2006.  8108391.     1069.      132. ]\n",
      " [   2007.  8125076.5    1114.      137. ]\n",
      " [   2008.  8141762.     1098.      135. ]\n",
      " [   2009.  8158447.5    1007.5     123. ]\n",
      " [   2010.  8175133.     1039.      127. ]\n",
      " [   2011.  8284098.     1021.      123. ]\n",
      " [   2012.  8361179.     1009.1     121. ]\n",
      " [   2013.  8422460.     1006.1     119. ]\n",
      " [   2014.  8471990.      996.      118. ]\n",
      " [   2015.  8516502.     1009.      118. ]\n",
      " [   2016.  8537673.     1002.      117. ]\n",
      " [   2017.  8622698.      990.2     115. ]]\n"
     ]
    },
    {
     "name": "stderr",
     "output_type": "stream",
     "text": [
      "C:\\Users\\maaya\\Anaconda3\\lib\\site-packages\\ipykernel_launcher.py:8: FutureWarning: Method .as_matrix will be removed in a future version. Use .values instead.\n",
      "  \n"
     ]
    }
   ],
   "source": [
    "import pandas\n",
    "import numpy as np\n",
    "\n",
    "# supress scientific notation\n",
    "np.set_printoptions(suppress = True)\n",
    "\n",
    "# read the data file from GitHub and convert to a NumPy ndarray object\n",
    "nyc_water = pandas.read_csv('https://raw.githubusercontent.com/jtopor/DAV-5400/master/Week4/Water_Consumption_In_The_New_York_City.csv').as_matrix()\n",
    "\n",
    "# verify you have an ndarray object\n",
    "type(nyc_water)\n",
    "\n",
    "print (nyc_water)"
   ]
  },
  {
   "cell_type": "code",
   "execution_count": 12,
   "metadata": {},
   "outputs": [
    {
     "name": "stdout",
     "output_type": "stream",
     "text": [
      "max consumption:  1512.0\n"
     ]
    }
   ],
   "source": [
    "#define variavle for the first cell in the consumption column\n",
    "maxConsumption = nyc_water[0][2]\n",
    "\n",
    "#check along database \n",
    "for value in range(len(nyc_water)):\n",
    "    # if 1512<=(next cell in column of consumption) assign to maxconsumption\n",
    "      if maxConsumption <= nyc_water[value][2]:\n",
    "    maxConsumption = nyc_water[value][2]\n",
    "  \n",
    "print(\"max consumption: \", maxConsumption)\n",
    "\n"
   ]
  },
  {
   "cell_type": "code",
   "execution_count": 9,
   "metadata": {},
   "outputs": [
    {
     "name": "stdout",
     "output_type": "stream",
     "text": [
      "39.0 calender years\n"
     ]
    }
   ],
   "source": [
    "\n",
    "print(nyc_water[len(nyc_water) - 1][0] - nyc_water[0][0] +1 ,\"calender years\")"
   ]
  },
  {
   "cell_type": "code",
   "execution_count": 10,
   "metadata": {},
   "outputs": [
    {
     "name": "stdout",
     "output_type": "stream",
     "text": [
      "[213. 213. 185. 194. 198. 203. 182. 185. 197. 202. 191. 194. 199. 184.\n",
      " 182. 179. 174. 169. 155. 155. 156. 155. 148. 141. 136. 136. 141. 132.\n",
      " 137. 135. 123. 127. 123. 121. 119. 118. 118. 117. 115.]\n",
      "mean:  160.30769230769232 stdv:  31.51894330370624\n"
     ]
    }
   ],
   "source": [
    "print(nyc_water[:,3])\n",
    "print(\"mean: \", np.mean(nyc_water[:,3], axis = 0),\"stdv: \", np.std(nyc_water[:,3], axis = 0))"
   ]
  },
  {
   "cell_type": "code",
   "execution_count": 11,
   "metadata": {},
   "outputs": [
    {
     "name": "stdout",
     "output_type": "stream",
     "text": [
      "[-30461.   17602.   19864.   72119.   53290.   39540.   45192.   23230.\n",
      "  11243.   -9544.   -8525.   38851.   54443.   77222.   64292.   62582.\n",
      "  64772.   75631.   84816.   89401.   60618.   16685.5  16685.5  16685.5\n",
      "  16685.5  16685.5  16685.5  16685.5  16685.5  16685.5  16685.5 108965.\n",
      "  77081.   61281.   49530.   44512.   21171.   85025. ]\n"
     ]
    }
   ],
   "source": [
    "pop_diff = np.diff(nyc_water[:,1])\n",
    "print(pop_diff)"
   ]
  },
  {
   "cell_type": "code",
   "execution_count": null,
   "metadata": {},
   "outputs": [],
   "source": []
  }
 ],
 "metadata": {
  "colab": {
   "collapsed_sections": [],
   "name": "DAV-5400-Week4-Assignment-Problems1-4",
   "provenance": [],
   "version": "0.3.2"
  },
  "kernelspec": {
   "display_name": "Python 3",
   "language": "python",
   "name": "python3"
  },
  "language_info": {
   "codemirror_mode": {
    "name": "ipython",
    "version": 3
   },
   "file_extension": ".py",
   "mimetype": "text/x-python",
   "name": "python",
   "nbconvert_exporter": "python",
   "pygments_lexer": "ipython3",
   "version": "3.7.1"
  }
 },
 "nbformat": 4,
 "nbformat_minor": 1
}
