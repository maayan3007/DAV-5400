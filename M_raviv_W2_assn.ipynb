{
 "cells": [
  {
   "cell_type": "code",
   "execution_count": 10,
   "metadata": {},
   "outputs": [
    {
     "name": "stdout",
     "output_type": "stream",
     "text": [
      "['high', 'high', '2', '4', 'med', 'low', 'unacc']\n",
      "['high', 'high', '4', 'more', 'small', 'high', 'acc']\n",
      "['high', 'high', '4', 'more', 'big', 'low', 'unacc']\n",
      "['high', 'low', '2', 'more', 'big', 'high', 'acc']\n",
      "['vhigh', 'low', '3', '2', 'med', 'med', 'unacc']\n",
      "['low', 'high', '2', '2', 'small', 'low', 'unacc']\n",
      "['med', 'med', '4', 'more', 'med', 'high', 'vgood']\n",
      "['low', 'low', '3', '2', 'big', 'med', 'unacc']\n",
      "['vhigh', 'low', '2', '2', 'small', 'low', 'unacc']\n",
      "['vhigh', 'high', '4', '4', 'med', 'low', 'unacc']\n",
      "['low', 'low', '2', '2', 'med', 'med', 'unacc']\n",
      "['vhigh', 'low', '4', 'more', 'small', 'high', 'acc']\n",
      "['high', 'low', '2', '4', 'big', 'med', 'acc']\n",
      "['low', 'vhigh', '3', 'more', 'big', 'low', 'unacc']\n",
      "['high', 'low', '5more', '2', 'big', 'med', 'unacc']\n",
      "['vhigh', 'high', '2', 'more', 'med', 'high', 'unacc']\n",
      "['med', 'med', '2', '2', 'small', 'low', 'unacc']\n",
      "['high', 'low', '5more', '4', 'med', 'high', 'acc']\n",
      "['low', 'low', '3', 'more', 'med', 'high', 'vgood']\n",
      "['low', 'low', '2', '2', 'big', 'med', 'unacc']\n",
      "['med', 'high', '4', '2', 'big', 'high', 'unacc']\n",
      "['low', 'low', '2', '2', 'small', 'high', 'unacc']\n",
      "['vhigh', 'high', '5more', '4', 'med', 'med', 'unacc']\n",
      "['med', 'vhigh', '2', '2', 'big', 'low', 'unacc']\n",
      "['low', 'vhigh', '4', '4', 'big', 'low', 'unacc']\n",
      "['vhigh', 'low', '3', 'more', 'big', 'low', 'unacc']\n",
      "['med', 'vhigh', '3', '4', 'small', 'low', 'unacc']\n",
      "['high', 'high', '3', '4', 'med', 'med', 'unacc']\n",
      "['low', 'high', '5more', '2', 'big', 'low', 'unacc']\n",
      "['med', 'high', '5more', '2', 'med', 'med', 'unacc']\n",
      "['high', 'low', '3', '4', 'med', 'high', 'acc']\n",
      "['high', 'vhigh', '5more', '4', 'med', 'med', 'unacc']\n",
      "['low', 'low', '5more', '2', 'med', 'low', 'unacc']\n",
      "['vhigh', 'vhigh', '4', '2', 'big', 'high', 'unacc']\n",
      "['high', 'low', '3', '2', 'big', 'high', 'unacc']\n"
     ]
    }
   ],
   "source": [
    "import csv\n",
    "# be sure to update the path below to reflect your own environment!!\n",
    "# also be sure that the code is properly indented after you paste it!\n",
    "with open('C:\\Python/cars-sample35.txt') as csvfile:\n",
    "     readCSV = csv.reader(csvfile)\n",
    "     for row in readCSV:\n",
    " # print each row as read by the csv.reader function\n",
    "         print(row)\n"
   ]
  },
  {
   "cell_type": "code",
   "execution_count": 12,
   "metadata": {},
   "outputs": [
    {
     "name": "stdout",
     "output_type": "stream",
     "text": [
      "['high', 'high', 'high', 'high', 'vhigh', 'low', 'med', 'low', 'vhigh', 'vhigh', 'low', 'vhigh', 'high', 'low', 'high', 'vhigh', 'med', 'high', 'low', 'low', 'med', 'low', 'vhigh', 'med', 'low', 'vhigh', 'med', 'high', 'low', 'med', 'high', 'high', 'low', 'vhigh', 'high']\n"
     ]
    }
   ],
   "source": [
    "#Create new list for price\n",
    "\n",
    "price_list=[]\n",
    "\n",
    "import csv\n",
    "with open('C:\\Python/cars-sample35.txt') as csvfile:\n",
    "    readCSV = csv.reader(csvfile)\n",
    "    for row in readCSV: \n",
    "        price_list.append(row[0]) #allocate all values from row 0\n",
    "\n",
    "print(price_list)"
   ]
  },
  {
   "cell_type": "code",
   "execution_count": 16,
   "metadata": {},
   "outputs": [
    {
     "name": "stdout",
     "output_type": "stream",
     "text": [
      "['high', 'high', 'high', 'low', 'low', 'high', 'med', 'low', 'low', 'high', 'low', 'low', 'low', 'vhigh', 'low', 'high', 'med', 'low', 'low', 'low', 'high', 'low', 'high', 'vhigh', 'vhigh', 'low', 'vhigh', 'high', 'high', 'high', 'low', 'vhigh', 'low', 'vhigh', 'low']\n"
     ]
    }
   ],
   "source": [
    "#Create new list for Maintenance cost\n",
    "\n",
    "Maintenance_list=[]\n",
    "\n",
    "import csv\n",
    "with open('C:\\Python/cars-sample35.txt') as csvfile:\n",
    "    readCSV = csv.reader(csvfile)\n",
    "    for row in readCSV: \n",
    "        Maintenance_list.append(row[1]) #allocate all values from row 1\n",
    "\n",
    "print(Maintenance_list)"
   ]
  },
  {
   "cell_type": "code",
   "execution_count": 18,
   "metadata": {},
   "outputs": [
    {
     "name": "stdout",
     "output_type": "stream",
     "text": [
      "['2', '4', '4', '2', '3', '2', '4', '3', '2', '4', '2', '4', '2', '3', '5more', '2', '2', '5more', '3', '2', '4', '2', '5more', '2', '4', '3', '3', '3', '5more', '5more', '3', '5more', '5more', '4', '3']\n"
     ]
    }
   ],
   "source": [
    "#Create new list for Number of doors\n",
    "\n",
    "NUM_Doors_list=[]\n",
    "\n",
    "import csv\n",
    "with open('C:\\Python/cars-sample35.txt') as csvfile:\n",
    "    readCSV = csv.reader(csvfile)\n",
    "    for row in readCSV: \n",
    "        NUM_Doors_list.append(row[2]) #allocate all values from row 2\n",
    "\n",
    "print(NUM_Doors_list)"
   ]
  },
  {
   "cell_type": "code",
   "execution_count": 20,
   "metadata": {},
   "outputs": [
    {
     "name": "stdout",
     "output_type": "stream",
     "text": [
      "['4', 'more', 'more', 'more', '2', '2', 'more', '2', '2', '4', '2', 'more', '4', 'more', '2', 'more', '2', '4', 'more', '2', '2', '2', '4', '2', '4', 'more', '4', '4', '2', '2', '4', '4', '2', '2', '2']\n"
     ]
    }
   ],
   "source": [
    "#Create new list for Number of passengers\n",
    "\n",
    "NUM_Pass_list=[]\n",
    "\n",
    "import csv\n",
    "with open('C:\\Python/cars-sample35.txt') as csvfile:\n",
    "    readCSV = csv.reader(csvfile)\n",
    "    for row in readCSV: \n",
    "        NUM_Pass_list.append(row[3]) #allocate all values from row 3\n",
    "\n",
    "print(NUM_Pass_list)"
   ]
  },
  {
   "cell_type": "code",
   "execution_count": 21,
   "metadata": {},
   "outputs": [
    {
     "name": "stdout",
     "output_type": "stream",
     "text": [
      "['med', 'small', 'big', 'big', 'med', 'small', 'med', 'big', 'small', 'med', 'med', 'small', 'big', 'big', 'big', 'med', 'small', 'med', 'med', 'big', 'big', 'small', 'med', 'big', 'big', 'big', 'small', 'med', 'big', 'med', 'med', 'med', 'med', 'big', 'big']\n"
     ]
    }
   ],
   "source": [
    "#Create new list for Luggage capacity\n",
    "\n",
    "Luggage_Cap_list=[]\n",
    "\n",
    "import csv\n",
    "with open('C:\\Python/cars-sample35.txt') as csvfile:\n",
    "    readCSV = csv.reader(csvfile)\n",
    "    for row in readCSV: \n",
    "        Luggage_Cap_list.append(row[4]) #allocate all values from row 4\n",
    "\n",
    "print(Luggage_Cap_list)"
   ]
  },
  {
   "cell_type": "code",
   "execution_count": 22,
   "metadata": {},
   "outputs": [
    {
     "name": "stdout",
     "output_type": "stream",
     "text": [
      "['low', 'high', 'low', 'high', 'med', 'low', 'high', 'med', 'low', 'low', 'med', 'high', 'med', 'low', 'med', 'high', 'low', 'high', 'high', 'med', 'high', 'high', 'med', 'low', 'low', 'low', 'low', 'med', 'low', 'med', 'high', 'med', 'low', 'high', 'high']\n"
     ]
    }
   ],
   "source": [
    "#Create new list for Safety rating\n",
    "\n",
    "Safety_rate_list=[]\n",
    "\n",
    "import csv\n",
    "with open('C:\\Python/cars-sample35.txt') as csvfile:\n",
    "    readCSV = csv.reader(csvfile)\n",
    "    for row in readCSV: \n",
    "        Safety_rate_list.append(row[5]) #allocate all values from row 5\n",
    "\n",
    "print(Safety_rate_list)"
   ]
  },
  {
   "cell_type": "code",
   "execution_count": 23,
   "metadata": {},
   "outputs": [
    {
     "name": "stdout",
     "output_type": "stream",
     "text": [
      "['unacc', 'acc', 'unacc', 'acc', 'unacc', 'unacc', 'vgood', 'unacc', 'unacc', 'unacc', 'unacc', 'acc', 'acc', 'unacc', 'unacc', 'unacc', 'unacc', 'acc', 'vgood', 'unacc', 'unacc', 'unacc', 'unacc', 'unacc', 'unacc', 'unacc', 'unacc', 'unacc', 'unacc', 'unacc', 'acc', 'unacc', 'unacc', 'unacc', 'unacc']\n"
     ]
    }
   ],
   "source": [
    "#Create new list for Classification of vehicle\n",
    "\n",
    "Class_veh_list=[]\n",
    "\n",
    "import csv\n",
    "with open('C:\\Python/cars-sample35.txt') as csvfile:\n",
    "    readCSV = csv.reader(csvfile)\n",
    "    for row in readCSV: \n",
    "        Class_veh_list.append(row[6]) #allocate all values from row 6\n",
    "\n",
    "print(Class_veh_list)"
   ]
  },
  {
   "cell_type": "code",
   "execution_count": 78,
   "metadata": {},
   "outputs": [
    {
     "name": "stdout",
     "output_type": "stream",
     "text": [
      "The index of cars with medium price is: [6, 16, 20, 23, 26, 29]\n"
     ]
    }
   ],
   "source": [
    "#create a list of the index of all cars with medium price\n",
    "#Supported by: https://stackoverflow.com/questions/28182569/get-all-indexes-for-a-python-list\n",
    "\n",
    "med_price_list=([index for index, value in enumerate(price_list) if value == \"med\"])\n",
    "\n",
    "print('The index of cars with medium price is:', med_price_list)"
   ]
  },
  {
   "cell_type": "code",
   "execution_count": 62,
   "metadata": {},
   "outputs": [
    {
     "name": "stdout",
     "output_type": "stream",
     "text": [
      "The number of passengers for automobile with price medium: ['more', '2', '2', '2', '4', '2']\n"
     ]
    }
   ],
   "source": [
    "#create a list of the num of passengers of all cars with medium price\n",
    "\n",
    "Pass_med_price_list = []\n",
    "\n",
    "Pass_med_price_list.append(NUM_Pass_list[6])\n",
    "Pass_med_price_list.append(NUM_Pass_list[16])\n",
    "Pass_med_price_list.append(NUM_Pass_list[20])\n",
    "Pass_med_price_list.append(NUM_Pass_list[23])\n",
    "Pass_med_price_list.append(NUM_Pass_list[26])\n",
    "Pass_med_price_list.append(NUM_Pass_list[29])\n",
    "\n",
    "\n",
    "\n",
    "print('The number of passengers for automobile with price medium:',Pass_med_price_list)\n",
    "\n",
    "\n"
   ]
  },
  {
   "cell_type": "code",
   "execution_count": 79,
   "metadata": {},
   "outputs": [
    {
     "name": "stdout",
     "output_type": "stream",
     "text": [
      "['more', '2', '2', '2', '4', '2']\n"
     ]
    }
   ],
   "source": [
    "  #create a list of the num of passengers of all cars with medium price\n",
    "#same as before but isn't working, can't figure out how to correct this\n",
    "\n",
    "\n",
    "Pass_med_price_list = []\n",
    "\n",
    "for item in med_price_list:\n",
    "    Pass_med_price_list.append(NUM_Pass_list[item])\n",
    "        \n",
    "print (Pass_med_price_list)\n"
   ]
  },
  {
   "cell_type": "code",
   "execution_count": 47,
   "metadata": {},
   "outputs": [
    {
     "name": "stdout",
     "output_type": "stream",
     "text": [
      "[0, 1, 2, 27, 31]\n"
     ]
    }
   ],
   "source": [
    "#create a list of the index of all cars with high price and low maintainance:\n",
    "\n",
    "import csv\n",
    "with open('C:\\Python/cars-sample35.txt') as csvfile:\n",
    "    readCSV = csv.reader(csvfile)\n",
    "    \n",
    "    price_paramter='high'  #prameters that will hold the values we target\n",
    "    maintain_parameter='low'\n",
    "    \n",
    "    highP_lowM_list=[]\n",
    "    \n",
    "    for index,row in enumerate(readCSV): \n",
    "        if row[0]==price_paramter and row[1]!=maintain_parameter:\n",
    "            highP_lowM_list.append(index) \n",
    "    print(highP_lowM_list)\n",
    "        \n",
    " "
   ]
  },
  {
   "cell_type": "code",
   "execution_count": 49,
   "metadata": {},
   "outputs": [
    {
     "name": "stdout",
     "output_type": "stream",
     "text": [
      "[3, 12, 19, 23]\n"
     ]
    }
   ],
   "source": [
    "#create a list of the index of all cars with two doors and big luggage:\n",
    "\n",
    "import csv\n",
    "with open('C:\\Python/cars-sample35.txt') as csvfile:\n",
    "    readCSV = csv.reader(csvfile)\n",
    "    \n",
    "    doors_paramter='2'     #prameters that will hold the values we target\n",
    "    luggage_parameter='big'\n",
    "    \n",
    "    twoD_bigL_list=[]\n",
    "    \n",
    "    for index,row in enumerate(readCSV): \n",
    "        if row[2]==doors_paramter and row[4]==luggage_parameter:\n",
    "            twoD_bigL_list.append(index) \n",
    "    print(twoD_bigL_list)\n",
    "    \n",
    "    \n",
    " "
   ]
  },
  {
   "cell_type": "code",
   "execution_count": 56,
   "metadata": {},
   "outputs": [
    {
     "name": "stdout",
     "output_type": "stream",
     "text": [
      "[2, 4, 4, 2, 3, 2, 4, 3, 2, 4, 2, 4, 2, 3, 5, 2, 2, 5, 3, 2, 4, 2, 5, 2, 4, 3, 3, 3, 5, 5, 3, 5, 5, 4, 3]\n",
      "\n",
      "\n",
      "The average number of doors per auto: 3.3142857142857145\n"
     ]
    }
   ],
   "source": [
    "#create a new list that contain the integer equivalents of the doors values+ convert string to int+ calculate average\n",
    "\n",
    "with open('C:\\Python/cars-sample35.txt') as csvfile:\n",
    "    readCSV = csv.reader(csvfile)\n",
    "\n",
    "    Num_doors6 = []\n",
    "    \n",
    "    for row in readCSV: \n",
    "        NUM_Doors_list = row[2]  # defining the elements index\n",
    "        Num_doors6.append(NUM_Doors_list)  # store each column in a set\n",
    "        Num_doors6 = [num.replace('5more','5') for num in Num_doors6] # replace value '5more' to 5\n",
    "    \n",
    "    Num_doors6 = [int(i) for i in Num_doors6]\n",
    "    print(Num_doors6)\n",
    "    print (\"\\n\")\n",
    "       \n",
    "    print('The average number of doors per auto:', sum(Num_doors6) / (len(Num_doors6)))\n",
    "    \n",
    "    #assitance of average https://stackoverflow.com/questions/9039961/finding-the-average-of-a-list"
   ]
  }
 ],
 "metadata": {
  "kernelspec": {
   "display_name": "Python 3",
   "language": "python",
   "name": "python3"
  },
  "language_info": {
   "codemirror_mode": {
    "name": "ipython",
    "version": 3
   },
   "file_extension": ".py",
   "mimetype": "text/x-python",
   "name": "python",
   "nbconvert_exporter": "python",
   "pygments_lexer": "ipython3",
   "version": "3.7.1"
  }
 },
 "nbformat": 4,
 "nbformat_minor": 2
}
