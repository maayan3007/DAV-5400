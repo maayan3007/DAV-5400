{
 "cells": [
  {
   "cell_type": "markdown",
   "metadata": {},
   "source": [
    "# Project 1- commercial domestic (USA) airline flights\n",
    "\n",
    "Group members:\n",
    "Maayan Raviv,\n",
    "Dean Pienica"
   ]
  },
  {
   "cell_type": "code",
   "execution_count": 5,
   "metadata": {},
   "outputs": [
    {
     "data": {
      "text/html": [
       "<div>\n",
       "<style scoped>\n",
       "    .dataframe tbody tr th:only-of-type {\n",
       "        vertical-align: middle;\n",
       "    }\n",
       "\n",
       "    .dataframe tbody tr th {\n",
       "        vertical-align: top;\n",
       "    }\n",
       "\n",
       "    .dataframe thead th {\n",
       "        text-align: right;\n",
       "    }\n",
       "</style>\n",
       "<table border=\"1\" class=\"dataframe\">\n",
       "  <thead>\n",
       "    <tr style=\"text-align: right;\">\n",
       "      <th></th>\n",
       "      <th>Year</th>\n",
       "      <th>Month</th>\n",
       "      <th>DayofMonth</th>\n",
       "      <th>DayOfWeek</th>\n",
       "      <th>DepTime</th>\n",
       "      <th>ArrTime</th>\n",
       "      <th>UniqueCarrier</th>\n",
       "      <th>FlightNum</th>\n",
       "      <th>TailNum</th>\n",
       "      <th>ActualElapsedTime</th>\n",
       "      <th>...</th>\n",
       "      <th>ArrDelay</th>\n",
       "      <th>DepDelay</th>\n",
       "      <th>Origin</th>\n",
       "      <th>Dest</th>\n",
       "      <th>Distance</th>\n",
       "      <th>TaxiIn</th>\n",
       "      <th>TaxiOut</th>\n",
       "      <th>Cancelled</th>\n",
       "      <th>CancellationCode</th>\n",
       "      <th>Diverted</th>\n",
       "    </tr>\n",
       "  </thead>\n",
       "  <tbody>\n",
       "    <tr>\n",
       "      <th>0</th>\n",
       "      <td>2011</td>\n",
       "      <td>1</td>\n",
       "      <td>1</td>\n",
       "      <td>6</td>\n",
       "      <td>1400.0</td>\n",
       "      <td>1500.0</td>\n",
       "      <td>AA</td>\n",
       "      <td>428</td>\n",
       "      <td>N576AA</td>\n",
       "      <td>60.0</td>\n",
       "      <td>...</td>\n",
       "      <td>-10.0</td>\n",
       "      <td>0.0</td>\n",
       "      <td>IAH</td>\n",
       "      <td>DFW</td>\n",
       "      <td>224</td>\n",
       "      <td>7.0</td>\n",
       "      <td>13.0</td>\n",
       "      <td>0</td>\n",
       "      <td>NaN</td>\n",
       "      <td>0</td>\n",
       "    </tr>\n",
       "    <tr>\n",
       "      <th>1</th>\n",
       "      <td>2011</td>\n",
       "      <td>1</td>\n",
       "      <td>2</td>\n",
       "      <td>7</td>\n",
       "      <td>1401.0</td>\n",
       "      <td>1501.0</td>\n",
       "      <td>AA</td>\n",
       "      <td>428</td>\n",
       "      <td>N557AA</td>\n",
       "      <td>60.0</td>\n",
       "      <td>...</td>\n",
       "      <td>-9.0</td>\n",
       "      <td>1.0</td>\n",
       "      <td>IAH</td>\n",
       "      <td>DFW</td>\n",
       "      <td>224</td>\n",
       "      <td>6.0</td>\n",
       "      <td>9.0</td>\n",
       "      <td>0</td>\n",
       "      <td>NaN</td>\n",
       "      <td>0</td>\n",
       "    </tr>\n",
       "    <tr>\n",
       "      <th>2</th>\n",
       "      <td>2011</td>\n",
       "      <td>1</td>\n",
       "      <td>3</td>\n",
       "      <td>1</td>\n",
       "      <td>1352.0</td>\n",
       "      <td>1502.0</td>\n",
       "      <td>AA</td>\n",
       "      <td>428</td>\n",
       "      <td>N541AA</td>\n",
       "      <td>70.0</td>\n",
       "      <td>...</td>\n",
       "      <td>-8.0</td>\n",
       "      <td>-8.0</td>\n",
       "      <td>IAH</td>\n",
       "      <td>DFW</td>\n",
       "      <td>224</td>\n",
       "      <td>5.0</td>\n",
       "      <td>17.0</td>\n",
       "      <td>0</td>\n",
       "      <td>NaN</td>\n",
       "      <td>0</td>\n",
       "    </tr>\n",
       "    <tr>\n",
       "      <th>3</th>\n",
       "      <td>2011</td>\n",
       "      <td>1</td>\n",
       "      <td>4</td>\n",
       "      <td>2</td>\n",
       "      <td>1403.0</td>\n",
       "      <td>1513.0</td>\n",
       "      <td>AA</td>\n",
       "      <td>428</td>\n",
       "      <td>N403AA</td>\n",
       "      <td>70.0</td>\n",
       "      <td>...</td>\n",
       "      <td>3.0</td>\n",
       "      <td>3.0</td>\n",
       "      <td>IAH</td>\n",
       "      <td>DFW</td>\n",
       "      <td>224</td>\n",
       "      <td>9.0</td>\n",
       "      <td>22.0</td>\n",
       "      <td>0</td>\n",
       "      <td>NaN</td>\n",
       "      <td>0</td>\n",
       "    </tr>\n",
       "    <tr>\n",
       "      <th>4</th>\n",
       "      <td>2011</td>\n",
       "      <td>1</td>\n",
       "      <td>5</td>\n",
       "      <td>3</td>\n",
       "      <td>1405.0</td>\n",
       "      <td>1507.0</td>\n",
       "      <td>AA</td>\n",
       "      <td>428</td>\n",
       "      <td>N492AA</td>\n",
       "      <td>62.0</td>\n",
       "      <td>...</td>\n",
       "      <td>-3.0</td>\n",
       "      <td>5.0</td>\n",
       "      <td>IAH</td>\n",
       "      <td>DFW</td>\n",
       "      <td>224</td>\n",
       "      <td>9.0</td>\n",
       "      <td>9.0</td>\n",
       "      <td>0</td>\n",
       "      <td>NaN</td>\n",
       "      <td>0</td>\n",
       "    </tr>\n",
       "  </tbody>\n",
       "</table>\n",
       "<p>5 rows × 21 columns</p>\n",
       "</div>"
      ],
      "text/plain": [
       "   Year  Month  DayofMonth  DayOfWeek  DepTime  ArrTime UniqueCarrier  \\\n",
       "0  2011      1           1          6   1400.0   1500.0            AA   \n",
       "1  2011      1           2          7   1401.0   1501.0            AA   \n",
       "2  2011      1           3          1   1352.0   1502.0            AA   \n",
       "3  2011      1           4          2   1403.0   1513.0            AA   \n",
       "4  2011      1           5          3   1405.0   1507.0            AA   \n",
       "\n",
       "   FlightNum TailNum  ActualElapsedTime   ...     ArrDelay  DepDelay  Origin  \\\n",
       "0        428  N576AA               60.0   ...        -10.0       0.0     IAH   \n",
       "1        428  N557AA               60.0   ...         -9.0       1.0     IAH   \n",
       "2        428  N541AA               70.0   ...         -8.0      -8.0     IAH   \n",
       "3        428  N403AA               70.0   ...          3.0       3.0     IAH   \n",
       "4        428  N492AA               62.0   ...         -3.0       5.0     IAH   \n",
       "\n",
       "  Dest Distance  TaxiIn  TaxiOut  Cancelled  CancellationCode Diverted  \n",
       "0  DFW      224     7.0     13.0          0               NaN        0  \n",
       "1  DFW      224     6.0      9.0          0               NaN        0  \n",
       "2  DFW      224     5.0     17.0          0               NaN        0  \n",
       "3  DFW      224     9.0     22.0          0               NaN        0  \n",
       "4  DFW      224     9.0      9.0          0               NaN        0  \n",
       "\n",
       "[5 rows x 21 columns]"
      ]
     },
     "execution_count": 5,
     "metadata": {},
     "output_type": "execute_result"
    }
   ],
   "source": [
    "#importing the dataset\n",
    "import pandas as pd\n",
    "import matplotlib.pyplot as plt \n",
    "import numpy as np\n",
    "\n",
    "filename = 'https://raw.githubusercontent.com/jtopor/DAV-5400/master/Project1/hflights.csv'\n",
    "\n",
    "dataset = pd.read_csv(filename)\n",
    "\n",
    "dataset.head()"
   ]
  },
  {
   "cell_type": "markdown",
   "metadata": {},
   "source": [
    "The question that we decided to conduct for this data set are:\n",
    "1-What day is the most popular for departing?\n",
    "2-Which month is the most popular for departing?\n",
    "3-In what year are most flights depart? \n",
    "4-Which destination is the most popular?\n",
    "5- What is the most popular reason for cancellation\n",
    "\n",
    "Those question are concerned to the marketing team that promote flights campigns, the marketing team concern is to undedrstand what campigns they should create to promote more directly to customer needs and increase their revenue. \n",
    "The first question concern to each day would imply what is the most popular day that customer preferd to depart, it will allow the team to make more efforts with flights that leave in those days and to price those flights accordingly.\n",
    "Same for the second question that will show which months are more popular. \n",
    "The third questions is more concerned for learning so it will be easier to suggest in what year were campigns more succesful, to review thhose campigns and get insights that would be implmented for this year.\n",
    "The fourth question is for marketing needs as well it will enable them to understand what locations seem to bo more attractive and to investigate why and also to think how to market better other destinations.\n",
    "The last question is to make sure if there are any comapny that tend to cancel more flights not becuase uncontrol causes as weather, but because of reasone that they have control on. The marketing team can decide not to promote those company the same way as those with tendancy to cancel less. Also, they can inform those companies that they need to improve their services. "
   ]
  },
  {
   "cell_type": "markdown",
   "metadata": {},
   "source": [
    "# 1-What day is the most popular for departing?\n",
    "The most popular day is Sunday, Where most flight are from IAH airport- Houston Bush Airport. "
   ]
  },
  {
   "cell_type": "code",
   "execution_count": 6,
   "metadata": {},
   "outputs": [
    {
     "data": {
      "text/html": [
       "<div>\n",
       "<style scoped>\n",
       "    .dataframe tbody tr th:only-of-type {\n",
       "        vertical-align: middle;\n",
       "    }\n",
       "\n",
       "    .dataframe tbody tr th {\n",
       "        vertical-align: top;\n",
       "    }\n",
       "\n",
       "    .dataframe thead th {\n",
       "        text-align: right;\n",
       "    }\n",
       "</style>\n",
       "<table border=\"1\" class=\"dataframe\">\n",
       "  <thead>\n",
       "    <tr style=\"text-align: right;\">\n",
       "      <th></th>\n",
       "      <th>Origin</th>\n",
       "      <th>DayOfWeek</th>\n",
       "      <th>Count</th>\n",
       "    </tr>\n",
       "  </thead>\n",
       "  <tbody>\n",
       "    <tr>\n",
       "      <th>6</th>\n",
       "      <td>HOU</td>\n",
       "      <td>7</td>\n",
       "      <td>665</td>\n",
       "    </tr>\n",
       "    <tr>\n",
       "      <th>5</th>\n",
       "      <td>HOU</td>\n",
       "      <td>6</td>\n",
       "      <td>505</td>\n",
       "    </tr>\n",
       "    <tr>\n",
       "      <th>4</th>\n",
       "      <td>HOU</td>\n",
       "      <td>5</td>\n",
       "      <td>601</td>\n",
       "    </tr>\n",
       "    <tr>\n",
       "      <th>3</th>\n",
       "      <td>HOU</td>\n",
       "      <td>4</td>\n",
       "      <td>593</td>\n",
       "    </tr>\n",
       "    <tr>\n",
       "      <th>2</th>\n",
       "      <td>HOU</td>\n",
       "      <td>3</td>\n",
       "      <td>595</td>\n",
       "    </tr>\n",
       "    <tr>\n",
       "      <th>1</th>\n",
       "      <td>HOU</td>\n",
       "      <td>2</td>\n",
       "      <td>606</td>\n",
       "    </tr>\n",
       "    <tr>\n",
       "      <th>0</th>\n",
       "      <td>HOU</td>\n",
       "      <td>1</td>\n",
       "      <td>754</td>\n",
       "    </tr>\n",
       "  </tbody>\n",
       "</table>\n",
       "</div>"
      ],
      "text/plain": [
       "  Origin  DayOfWeek  Count\n",
       "6    HOU          7    665\n",
       "5    HOU          6    505\n",
       "4    HOU          5    601\n",
       "3    HOU          4    593\n",
       "2    HOU          3    595\n",
       "1    HOU          2    606\n",
       "0    HOU          1    754"
      ]
     },
     "execution_count": 6,
     "metadata": {},
     "output_type": "execute_result"
    }
   ],
   "source": [
    "dataset_copy = dataset[['Origin', 'DayOfWeek', 'Year']].copy()\n",
    "dataset_copy = dataset_copy.groupby(['Origin', 'DayOfWeek'], as_index=False)['Year'].count()\n",
    "dataset_copy = dataset_copy.rename(columns={'Year': 'Count'})\n",
    "\n",
    "hou_data = dataset_copy[dataset_copy['Origin']=='HOU']\n",
    "hou_data = hou_data.sort_values(by=['DayOfWeek'], ascending=False)\n",
    "iah_data = dataset_copy[dataset_copy['Origin']=='IAH']\n",
    "iah_data = iah_data.sort_values(by=['DayOfWeek'], ascending=False)\n",
    "hou_data"
   ]
  },
  {
   "cell_type": "code",
   "execution_count": 4,
   "metadata": {},
   "outputs": [
    {
     "data": {
      "image/png": "[encoded data removed]",
      "text/plain": [
       "<Figure size 432x288 with 1 Axes>"
      ]
     },
     "metadata": {
      "needs_background": "light"
     },
     "output_type": "display_data"
    }
   ],
   "source": [
    "# Let's plot a bar graph for Q1\n",
    "data = np.array(list(zip(hou_data['Count'], iah_data['Count'])))\n",
    "data = pd.DataFrame(data, columns=['HOU', 'IAH'])\n",
    "axes = data.plot.bar(title='Anything you want')\n",
    "axes.set(xlabel=\"Day of Week\", ylabel=\"Count\")\n",
    "axes.set_xticklabels(['7', '6', '5', '4', '3', '2', '1'])\n",
    "plt.show()"
   ]
  },
  {
   "cell_type": "markdown",
   "metadata": {},
   "source": [
    "# 2- Which month is the most popular for departing? \n",
    "\n",
    "The Data is available only for two months, we decided to present the distribution between the airports as well.\n",
    "The most popular month (from the data avilable) is January and most flights depart from IAH airport."
   ]
  },
  {
   "cell_type": "code",
   "execution_count": 7,
   "metadata": {},
   "outputs": [
    {
     "data": {
      "text/html": [
       "<div>\n",
       "<style scoped>\n",
       "    .dataframe tbody tr th:only-of-type {\n",
       "        vertical-align: middle;\n",
       "    }\n",
       "\n",
       "    .dataframe tbody tr th {\n",
       "        vertical-align: top;\n",
       "    }\n",
       "\n",
       "    .dataframe thead th {\n",
       "        text-align: right;\n",
       "    }\n",
       "</style>\n",
       "<table border=\"1\" class=\"dataframe\">\n",
       "  <thead>\n",
       "    <tr style=\"text-align: right;\">\n",
       "      <th></th>\n",
       "      <th>Origin</th>\n",
       "      <th>Month</th>\n",
       "      <th>Count</th>\n",
       "    </tr>\n",
       "  </thead>\n",
       "  <tbody>\n",
       "    <tr>\n",
       "      <th>2</th>\n",
       "      <td>IAH</td>\n",
       "      <td>1</td>\n",
       "      <td>14640</td>\n",
       "    </tr>\n",
       "    <tr>\n",
       "      <th>3</th>\n",
       "      <td>IAH</td>\n",
       "      <td>2</td>\n",
       "      <td>1041</td>\n",
       "    </tr>\n",
       "  </tbody>\n",
       "</table>\n",
       "</div>"
      ],
      "text/plain": [
       "  Origin  Month  Count\n",
       "2    IAH      1  14640\n",
       "3    IAH      2   1041"
      ]
     },
     "execution_count": 7,
     "metadata": {},
     "output_type": "execute_result"
    }
   ],
   "source": [
    "dataset_copy = dataset.copy()\n",
    "# dataset_copy.head(20)\n",
    "dataset_copy = dataset_copy.groupby(['Origin', 'Month'], as_index=False)['Year'].count()\n",
    "dataset_copy = dataset_copy.rename(columns={'Year': 'Count'})\n",
    "\n",
    "hou_data = dataset_copy[dataset_copy['Origin']=='HOU']\n",
    "iah_data = dataset_copy[dataset_copy['Origin']=='IAH']\n",
    "hou_data # Impractical question for the data set as data is for only two months\n",
    "iah_data"
   ]
  },
  {
   "cell_type": "code",
   "execution_count": 56,
   "metadata": {},
   "outputs": [
    {
     "data": {
      "image/png": "[encoded data removed]",
      "text/plain": [
       "<Figure size 432x288 with 1 Axes>"
      ]
     },
     "metadata": {
      "needs_background": "light"
     },
     "output_type": "display_data"
    }
   ],
   "source": [
    "# Let's plot a bar graph for Q1\n",
    "data = np.array(list(zip(hou_data['Count'], iah_data['Count'])))\n",
    "data = pd.DataFrame(data, columns=['HOU', 'IAH'])\n",
    "axes = data.plot.bar(title='Anything you want')\n",
    "axes.set(xlabel=\"Month\", ylabel=\"Count\")\n",
    "axes.set_xticklabels(list(hou_data['Month']))\n",
    "plt.show()"
   ]
  },
  {
   "cell_type": "markdown",
   "metadata": {},
   "source": [
    "# 3- In what year are most flights depart? \n",
    "Data is  avilable only for 2011"
   ]
  },
  {
   "cell_type": "code",
   "execution_count": 8,
   "metadata": {},
   "outputs": [
    {
     "data": {
      "text/html": [
       "<div>\n",
       "<style scoped>\n",
       "    .dataframe tbody tr th:only-of-type {\n",
       "        vertical-align: middle;\n",
       "    }\n",
       "\n",
       "    .dataframe tbody tr th {\n",
       "        vertical-align: top;\n",
       "    }\n",
       "\n",
       "    .dataframe thead th {\n",
       "        text-align: right;\n",
       "    }\n",
       "</style>\n",
       "<table border=\"1\" class=\"dataframe\">\n",
       "  <thead>\n",
       "    <tr style=\"text-align: right;\">\n",
       "      <th></th>\n",
       "      <th>Year</th>\n",
       "      <th>Count</th>\n",
       "    </tr>\n",
       "  </thead>\n",
       "  <tbody>\n",
       "    <tr>\n",
       "      <th>0</th>\n",
       "      <td>2011</td>\n",
       "      <td>20000</td>\n",
       "    </tr>\n",
       "  </tbody>\n",
       "</table>\n",
       "</div>"
      ],
      "text/plain": [
       "   Year  Count\n",
       "0  2011  20000"
      ]
     },
     "execution_count": 8,
     "metadata": {},
     "output_type": "execute_result"
    }
   ],
   "source": [
    "dataset_copy = dataset.copy()\n",
    "# # dataset_copy.head(20)\n",
    "dataset_copy = dataset_copy.groupby(['Year'], as_index=False)['Origin'].count()\n",
    "dataset_copy = dataset_copy.rename(columns={'Origin': 'Count'})\n",
    "dataset_copy # Impractical question for the data set"
   ]
  },
  {
   "cell_type": "markdown",
   "metadata": {},
   "source": [
    "# 4- Which destination is the most popular?\n",
    "The most popular detination is DAL with 884 flights.\n",
    "The destination with minimum flights is RNO with 4 flights. \n",
    "The mean for each destination is 188.\n"
   ]
  },
  {
   "cell_type": "code",
   "execution_count": 9,
   "metadata": {},
   "outputs": [],
   "source": [
    "dataset_copy = dataset[['Dest', 'Origin']].copy()\n",
    "dataset_copy = dataset_copy.groupby(['Dest'], as_index=False)['Origin'].count()\n",
    "dataset_copy = dataset_copy.rename(columns={'Origin': 'Count'})\n",
    "dataset_copy = dataset_copy.sort_values(by=['Count'], ascending=False)\n",
    "top_10_dest = dataset_copy[:10]"
   ]
  },
  {
   "cell_type": "code",
   "execution_count": 17,
   "metadata": {},
   "outputs": [
    {
     "name": "stdout",
     "output_type": "stream",
     "text": [
      "Dest with minimum number of flights: RNO 4\n",
      "Dest with maximum number of flights: DAL 884\n"
     ]
    }
   ],
   "source": [
    "min_count = min(dataset_copy['Count'])\n",
    "min_record = dataset_copy[dataset_copy['Count']==min_count]\n",
    "min_dest = list(min_record['Dest'])[0]\n",
    "print(\"Dest with minimum number of flights:\", min_dest, min_count)\n",
    "\n",
    "max_count = max(dataset_copy['Count'])\n",
    "max_record = dataset_copy[dataset_copy['Count']==max_count]\n",
    "max_dest = list(max_record['Dest'])[0]\n",
    "print(\"Dest with maximum number of flights:\", max_dest, max_count)\n"
   ]
  },
  {
   "cell_type": "code",
   "execution_count": 16,
   "metadata": {},
   "outputs": [
    {
     "data": {
      "text/html": [
       "<div>\n",
       "<style scoped>\n",
       "    .dataframe tbody tr th:only-of-type {\n",
       "        vertical-align: middle;\n",
       "    }\n",
       "\n",
       "    .dataframe tbody tr th {\n",
       "        vertical-align: top;\n",
       "    }\n",
       "\n",
       "    .dataframe thead th {\n",
       "        text-align: right;\n",
       "    }\n",
       "</style>\n",
       "<table border=\"1\" class=\"dataframe\">\n",
       "  <thead>\n",
       "    <tr style=\"text-align: right;\">\n",
       "      <th></th>\n",
       "      <th>Count</th>\n",
       "    </tr>\n",
       "  </thead>\n",
       "  <tbody>\n",
       "    <tr>\n",
       "      <th>count</th>\n",
       "      <td>106.000000</td>\n",
       "    </tr>\n",
       "    <tr>\n",
       "      <th>mean</th>\n",
       "      <td>188.679245</td>\n",
       "    </tr>\n",
       "    <tr>\n",
       "      <th>std</th>\n",
       "      <td>161.497961</td>\n",
       "    </tr>\n",
       "    <tr>\n",
       "      <th>min</th>\n",
       "      <td>4.000000</td>\n",
       "    </tr>\n",
       "    <tr>\n",
       "      <th>25%</th>\n",
       "      <td>64.250000</td>\n",
       "    </tr>\n",
       "    <tr>\n",
       "      <th>50%</th>\n",
       "      <td>147.500000</td>\n",
       "    </tr>\n",
       "    <tr>\n",
       "      <th>75%</th>\n",
       "      <td>251.250000</td>\n",
       "    </tr>\n",
       "    <tr>\n",
       "      <th>max</th>\n",
       "      <td>884.000000</td>\n",
       "    </tr>\n",
       "  </tbody>\n",
       "</table>\n",
       "</div>"
      ],
      "text/plain": [
       "            Count\n",
       "count  106.000000\n",
       "mean   188.679245\n",
       "std    161.497961\n",
       "min      4.000000\n",
       "25%     64.250000\n",
       "50%    147.500000\n",
       "75%    251.250000\n",
       "max    884.000000"
      ]
     },
     "execution_count": 16,
     "metadata": {},
     "output_type": "execute_result"
    }
   ],
   "source": [
    "dataset_copy = dataset.copy()\n",
    "# dataset_copy.head(20)\n",
    "dataset_copy = dataset_copy.groupby(['Dest'], as_index=False)['Origin'].count()\n",
    "dataset_copy = dataset_copy.rename(columns={'Origin': 'Count'})\n",
    "dataset_copy.describe() # How do you want to represent this? 106 destinations, min max count 4 to 884, mean ~188"
   ]
  },
  {
   "cell_type": "code",
   "execution_count": 11,
   "metadata": {},
   "outputs": [
    {
     "data": {
      "image/png": "[encoded data removed]",
      "text/plain": [
       "<Figure size 432x288 with 1 Axes>"
      ]
     },
     "metadata": {
      "needs_background": "light"
     },
     "output_type": "display_data"
    }
   ],
   "source": [
    "#Let's plot a bar graph\n",
    "data = np.array(list(top_10_dest['Count']))\n",
    "data = pd.DataFrame(data)\n",
    "axes = data.plot.bar(title='Anything you want')\n",
    "axes.get_legend().remove()\n",
    "axes.set(xlabel=\"Destination\", ylabel=\"Count\")\n",
    "axes.set_xticklabels(top_10_dest['Dest'])\n",
    "plt.show()"
   ]
  },
  {
   "cell_type": "markdown",
   "metadata": {},
   "source": [
    "# 5- What is the most popular reason for cancellation\n",
    "The most common reason for cancelation is weather among those that are recorded. However, most records doesn't include a documnation for the reason of cancelation (19776 records). "
   ]
  },
  {
   "cell_type": "code",
   "execution_count": 65,
   "metadata": {},
   "outputs": [
    {
     "data": {
      "text/html": [
       "<div>\n",
       "<style scoped>\n",
       "    .dataframe tbody tr th:only-of-type {\n",
       "        vertical-align: middle;\n",
       "    }\n",
       "\n",
       "    .dataframe tbody tr th {\n",
       "        vertical-align: top;\n",
       "    }\n",
       "\n",
       "    .dataframe thead th {\n",
       "        text-align: right;\n",
       "    }\n",
       "</style>\n",
       "<table border=\"1\" class=\"dataframe\">\n",
       "  <thead>\n",
       "    <tr style=\"text-align: right;\">\n",
       "      <th></th>\n",
       "      <th>CancellationCode</th>\n",
       "      <th>Count</th>\n",
       "      <th>Reason</th>\n",
       "    </tr>\n",
       "  </thead>\n",
       "  <tbody>\n",
       "    <tr>\n",
       "      <th>3</th>\n",
       "      <td>E</td>\n",
       "      <td>19776</td>\n",
       "      <td>undefined</td>\n",
       "    </tr>\n",
       "    <tr>\n",
       "      <th>2</th>\n",
       "      <td>C</td>\n",
       "      <td>5</td>\n",
       "      <td>national air system</td>\n",
       "    </tr>\n",
       "    <tr>\n",
       "      <th>1</th>\n",
       "      <td>B</td>\n",
       "      <td>162</td>\n",
       "      <td>weather</td>\n",
       "    </tr>\n",
       "    <tr>\n",
       "      <th>0</th>\n",
       "      <td>A</td>\n",
       "      <td>57</td>\n",
       "      <td>carrier</td>\n",
       "    </tr>\n",
       "  </tbody>\n",
       "</table>\n",
       "</div>"
      ],
      "text/plain": [
       "  CancellationCode  Count               Reason\n",
       "3                E  19776            undefined\n",
       "2                C      5  national air system\n",
       "1                B    162              weather\n",
       "0                A     57              carrier"
      ]
     },
     "execution_count": 65,
     "metadata": {},
     "output_type": "execute_result"
    }
   ],
   "source": [
    "def filter_func(x):\n",
    "    x = str(x)\n",
    "    if x=='A':\n",
    "        return \"carrier\"\n",
    "    elif x=='B':\n",
    "        return \"weather\"\n",
    "    elif x=='C':\n",
    "        return \"national air system\"\n",
    "    elif x=='D':\n",
    "        return \"security\"\n",
    "    elif x==\"E\":\n",
    "        return \"undefined\"\n",
    "    \n",
    "dataset_copy = dataset[['CancellationCode', 'Cancelled']].copy()\n",
    "dataset_copy['CancellationCode'] = dataset_copy['CancellationCode'].fillna('E')\n",
    "dataset_copy = dataset_copy.groupby(['CancellationCode'], as_index=False)['Cancelled'].count()\n",
    "dataset_copy = dataset_copy.rename(columns={'Cancelled': 'Count'})\n",
    "dataset_copy['Reason'] = dataset_copy['CancellationCode'].apply(lambda x: filter_func(x))\n",
    "dataset_copy = dataset_copy.sort_values(by=['CancellationCode'], ascending=False)\n",
    "dataset_copy"
   ]
  },
  {
   "cell_type": "markdown",
   "metadata": {},
   "source": [
    "Among those that were documented the main reason as appear in the bar chart bellow is weather. "
   ]
  },
  {
   "cell_type": "code",
   "execution_count": 66,
   "metadata": {},
   "outputs": [
    {
     "data": {
      "image/png": "[encoded data removed]",
      "text/plain": [
       "<Figure size 432x288 with 1 Axes>"
      ]
     },
     "metadata": {
      "needs_background": "light"
     },
     "output_type": "display_data"
    }
   ],
   "source": [
    "# lets draw the bar graph\n",
    "dataset_copy = dataset_copy[dataset_copy['CancellationCode']!='E']\n",
    "data = np.array(list(dataset_copy['Count']))\n",
    "data = pd.DataFrame(data)\n",
    "axes = data.plot.bar(title='Anything you want')\n",
    "axes.get_legend().remove()\n",
    "axes.set(xlabel=\"Cancellation reason\", ylabel=\"Count\")\n",
    "axes.set_xticklabels(dataset_copy['Reason'])\n",
    "plt.show()\n"
   ]
  },
  {
   "cell_type": "markdown",
   "metadata": {},
   "source": [
    "Summary-\n",
    "*IAH consider to be a bigger airport with a bigger capacity, therefore the fact that more flights leave from this airport is not nesscarly represent that customer prefer this airport comparing to HOU.\n",
    "*There are more holidays in January with days off, which might effect the number of flights that will depart in January.\n",
    "*The dataset is not limited and representitve and it's hard to get final conculsions and insights based on this data only. \n"
   ]
  }
 ],
 "metadata": {
  "kernelspec": {
   "display_name": "Python 3",
   "language": "python",
   "name": "python3"
  },
  "language_info": {
   "codemirror_mode": {
    "name": "ipython",
    "version": 3
   },
   "file_extension": ".py",
   "mimetype": "text/x-python",
   "name": "python",
   "nbconvert_exporter": "python",
   "pygments_lexer": "ipython3",
   "version": "3.7.1"
  }
 },
 "nbformat": 4,
 "nbformat_minor": 2
}
