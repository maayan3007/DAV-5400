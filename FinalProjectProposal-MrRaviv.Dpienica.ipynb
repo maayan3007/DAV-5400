{
 "cells": [
  {
   "cell_type": "markdown",
   "metadata": {},
   "source": [
    "# ACA Effect on the US \n",
    "### DAV 5400 Final Project Proposal \n",
    "\n",
    "Maayan Raviv\n",
    "Dean Pienica"
   ]
  },
  {
   "cell_type": "markdown",
   "metadata": {},
   "source": [
    "_Team tasks assign:_\n",
    "<br>\n",
    "All tasks will be a shared work of the team members."
   ]
  },
  {
   "cell_type": "markdown",
   "metadata": {},
   "source": [
    "## Introduction\n",
    "\n",
    "The Affordable Care Act (ACA) is the name for the comprehensive health care reform law and its amendments which addresses health insurance coverage, health care costs, and preventive care. The law was enacted in two parts: The Patient Protection and Affordable Care Act was signed into law on March 23, 2010, by President Barack Obama and was amended by the Health Care and Education Reconciliation Act on March 30, 2010.\n",
    "The Affordable Care Act (ACA) led to historic gains in health insurance coverage by extending Medicaid coverage to many low-income individuals and providing Marketplace subsidies for individuals below 400% of poverty. The number of uninsured nonelderly Americans decreased from over 44 million in 2013 (the year before the major coverage provisions went into effect) to just below 27 million in 2016. \n",
    "The purpose of this research is to indicate whether the Obama care plan succeeds its goal to make coverage more affordable to more people. These subsidies are paid for by Obamacare taxes on higher income families and some health care providers. It also required everyone to get insurance.\n",
    "We will review the uninsured rate for each state according to the population size including other factors as Medicare and Medicaid plan enrollment which are the official plans of the ACA. \n",
    "<br>\n",
    "<br>\n",
    "_The motivation_ for this project arises since the team members are international students who were not aware of the health coverage policy in the US. In Israel, their home country, health insurance is provided by the government to every citizen regardless of his level of income. \n"
   ]
  },
  {
   "cell_type": "markdown",
   "metadata": {},
   "source": [
    "## Research Questions\n",
    "\n",
    "The following questions will be addressed:\n",
    "\n",
    "__1.How does the state Medicade expansion effect the enrollment of citizens to Medicade plan?__\n",
    "<br>\n",
    "This will help to determined if it will be affective to a state to adopt the ACA plan, so the number of uninsured citizens will decrease, or they should adopt a different approach.\n",
    "<br>\n",
    "__2.Which states observed the greatest declined in their uninsured rate according to the size of population and whether the expansion effect or not?__\n",
    "<br>\n",
    "This will help to determined if the Obamacare Plan accomplished its goal, to make health insurance accessible to all.   \n",
    "__3.Did those states expand Medicaid program coverage and/or implement a health insurance marketplace?__\n",
    "<br>\n",
    "This will help us to indicate if the number of insured citizens increase due to implementing medicaid plans or due to health insurance marketplace. It will emphasize to which plan the government/states should adopt.\n",
    "__4.How has the Affordable Care Act changed the rate of citizens with health insurance coverage?__\n",
    "<br>\n",
    "This research question will support and assess our second question and will summarize all states.\n",
    "\n"
   ]
  },
  {
   "cell_type": "markdown",
   "metadata": {},
   "source": [
    "## Data to be Used\n",
    "\n",
    "1) https://www.kaggle.com/hhs/health-insurance\n",
    "\n",
    "This will be used as our main dataset with the major data. This data will be uploaded as a CSV file into Github.\n",
    "\n",
    "2)https://www.census.gov/data/developers/data-sets/popest-popproj/popest.Vintage_2017.html\n",
    "\n",
    "\n",
    "Data will be collected from this sources by using API. We will use the different populations within the years of 2013 and 2016 by each state.\n",
    "\n",
    "\n",
    "3) https://www.thebalance.com/obama-s-health-care-reform-plan-3305753\n",
    "\n",
    "This is an informative website that will help us to expand our knowladge within the research.\n",
    "\n"
   ]
  },
  {
   "cell_type": "markdown",
   "metadata": {},
   "source": [
    "## Approach\n",
    "\n",
    "The first step in our research would be data wrangling; we will clean the data and adjust to the column if necessary. Then we will combine the US population to get a better understanding of the changes per state. \n",
    "The research will start with an introduction that will review all variables in the data set. \n",
    "<br>\n",
    "__Storing:__ For the main data set we will use a CSV file that we will read from it, for the data set that we will collect using API we will create a CSV file and will read from it. Both files will be uploaded to Github. \n",
    "<br>\n",
    "__Statistical analysis and visualization:__\n",
    "* USA Choropleth Map - Insured Rate Changes by State\n",
    "* Box Plot - Medicaid State Expansion\n",
    "* Histograms - Variables by State\n",
    "* Scatter Plots - Relationship between Insured Rate Changes and Other Variables\n",
    "* USA Choropleth Map - Medicaid Expansion by State\n",
    "\n",
    "Besides, we will show a general review of different variables and their distribution. \n",
    "<br>\n",
    "<br>\n",
    "__Reasearch question:__\n",
    "1. How does the state Medicaid expansion affect the enrollment of citizens to the Medicaid plan?\n",
    "<br>\n",
    " We will create a bar chart for the median and average enrollment change for all state that except the ACA and one for those who didn't accept the ACA. \n",
    "2. Which states observed the greatest declined in their uninsured rate according to the size of the population and whether the expansion effect or not? \n",
    "<br>\n",
    "We will compare the change for each country according to the population size using a heat map. \n",
    "3. Did those states expand Medicaid program coverage and/or implement a health insurance marketplace? \n",
    "<br>\n",
    "We will review the correlation between these two variables using a scatter plot. \n",
    "4. How has the Affordable Care Act changed the rate of citizens with health insurance coverage? \n",
    "<br>\n",
    "We will review the number of citizens in each state and will compare it to those who except the ACA to those who are not, We will do so using a bar chart and a box plot to compare those two groups. \n",
    "<br>\n",
    "All those questions will be supported by other visualization that we will demonstrate. \n",
    "<br>\n",
    "The last part will include conclusions and insights that will determine what the actual effect of Obama Care Plan in the US and how effective that is was. "
   ]
  },
  {
   "cell_type": "code",
   "execution_count": null,
   "metadata": {},
   "outputs": [],
   "source": []
  }
 ],
 "metadata": {
  "kernelspec": {
   "display_name": "Python 3",
   "language": "python",
   "name": "python3"
  },
  "language_info": {
   "codemirror_mode": {
    "name": "ipython",
    "version": 3
   },
   "file_extension": ".py",
   "mimetype": "text/x-python",
   "name": "python",
   "nbconvert_exporter": "python",
   "pygments_lexer": "ipython3",
   "version": "3.7.1"
  }
 },
 "nbformat": 4,
 "nbformat_minor": 2
}
