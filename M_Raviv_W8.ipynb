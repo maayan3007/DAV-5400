{
 "cells": [
  {
   "cell_type": "markdown",
   "metadata": {},
   "source": [
    "# Regular Expressions\n",
    "### DAV 5400 Spring 2019 Week 8 Assignment \n",
    "__Maayan Raviv__\n",
    "***\n"
   ]
  },
  {
   "cell_type": "markdown",
   "metadata": {},
   "source": [
    "## Question 1\n",
    "Performing names extraction"
   ]
  },
  {
   "cell_type": "code",
   "execution_count": 2,
   "metadata": {},
   "outputs": [
    {
     "name": "stdout",
     "output_type": "stream",
     "text": [
      "['Moe Szyslak', 'Burns, C. Montgomery', 'Rev. Timothy Lovejoy', 'Ned Flanders', 'Simpson, Homer', 'Dr. Julius Hibbert']\n"
     ]
    }
   ],
   "source": [
    "import re\n",
    "\n",
    "# you can try out regex - https://www.regextester.com/\n",
    "\n",
    "text = \"555-1239Moe Szyslak(636) 555-0113Burns, C. Montgomery555 -6542Rev. Timothy Lovejoy555 8904Ned Flanders636-555-3226Simpson, Homer5553642Dr. Julius Hibbert\"\n",
    "\n",
    "# By inspecting above text, we can see that pervious element of each name is number. [0-9]\n",
    "# last part of the name contains only letters [A-z]+\n",
    "# Between the last part and starting number, there can be letters + space, comma, period [A-z , .]+\n",
    "# Phrase selection done by eleminating starting number using brackets\n",
    "\n",
    "names = re.findall(\"[0-9]([A-z , .]+[A-z]+)\", text) # name array\n",
    "\n",
    "print(names)"
   ]
  },
  {
   "cell_type": "markdown",
   "metadata": {},
   "source": [
    "## Question 2\n",
    "### Part A\n",
    "Order names by firsy name and last name including preserving titles and middle names "
   ]
  },
  {
   "cell_type": "code",
   "execution_count": 3,
   "metadata": {},
   "outputs": [
    {
     "name": "stdout",
     "output_type": "stream",
     "text": [
      "['Moe Szyslak', 'C. Montgomery Burns', 'Rev. Timothy Lovejoy', 'Ned Flanders', 'Homer Simpson', 'Dr. Julius Hibbert']\n"
     ]
    }
   ],
   "source": [
    "# Standardize the array\n",
    "# title, first name, middle, last\n",
    "standard_names = []\n",
    "for name in names:\n",
    "    # set last name to end\n",
    "    # when the last name in the begining there is a comma at the end of that name part. Just check for it, remove it and place it at the end without comma\n",
    "    last_name = re.match(\"^[A-z]+,\", name)\n",
    "    if last_name:\n",
    "        last_name = last_name[0] # actual name tailing ,\n",
    "        name = name.replace(last_name, \"\") # remove the starting last name part\n",
    "        name = \" \".join([name, last_name[:-1]]) # appending the last name\n",
    "        name = name.strip() # remove formatting\n",
    "\n",
    "    standard_names.append(name)\n",
    "\n",
    "print(standard_names)"
   ]
  },
  {
   "cell_type": "markdown",
   "metadata": {},
   "source": [
    "## Question 2\n",
    "### Part B\n",
    "Verify if the names have a title"
   ]
  },
  {
   "cell_type": "code",
   "execution_count": 4,
   "metadata": {},
   "outputs": [
    {
     "name": "stdout",
     "output_type": "stream",
     "text": [
      "False\n",
      "False\n",
      "True\n",
      "False\n",
      "False\n",
      "True\n"
     ]
    }
   ],
   "source": [
    "# does name have title?\n",
    "for name in standard_names:\n",
    "    # Usually title is in following pattern. Two letters or more with tailing period. eg Mr. Mrs. Miss. Dr. Rev. Prof.\n",
    "    title = re.match(\"^[A-z]{2,}\\.\", name)\n",
    "    if title:\n",
    "        print(True)\n",
    "    else:\n",
    "        print(False)\n"
   ]
  },
  {
   "cell_type": "markdown",
   "metadata": {},
   "source": [
    "## Question 2\n",
    "### Part C\n",
    "Verify if the names have a middle name"
   ]
  },
  {
   "cell_type": "code",
   "execution_count": 5,
   "metadata": {},
   "outputs": [
    {
     "name": "stdout",
     "output_type": "stream",
     "text": [
      "False\n",
      "True\n",
      "False\n",
      "False\n",
      "False\n",
      "False\n"
     ]
    }
   ],
   "source": [
    "# has middle/second name?\n",
    "for name in standard_names:\n",
    "    # if the name has a middle/second name, there should be three name parts except title. So we can divide all names in to two types.\n",
    "    # 1. names with title\n",
    "    # 2. names without title\n",
    "    # Case 2 - There should be 3 parts separating by space. eg. C. Montgomery Burns, Carl Montgomery Burns - ^([A-z]+|[A-z]\\.) [A-z]+ [A-z]+$\n",
    "    # Case 1 - Add title regex to the begining of case 2 - ^[A-z]{2,}\\. ([A-z]+|[A-z]\\.) [A-z]+ [A-z]+$\n",
    "    # combine both regex by ''|' to check one of both\n",
    "    three_part_name = re.match(\"^[A-z]{2,}\\. ([A-z]+|[A-z]\\.) [A-z]+ [A-z]+$|^([A-z]+|[A-z]\\.) [A-z]+ [A-z]+$\", name)\n",
    "    if three_part_name:\n",
    "        print(True)\n",
    "    else:\n",
    "        print(False)\n",
    "        "
   ]
  },
  {
   "cell_type": "markdown",
   "metadata": {},
   "source": [
    "## Question 3\n",
    "\n",
    "Extract the first html tag \"title\""
   ]
  },
  {
   "cell_type": "code",
   "execution_count": 9,
   "metadata": {},
   "outputs": [
    {
     "name": "stdout",
     "output_type": "stream",
     "text": [
      "<title>+++BREAKING NEWS+++<title>\n",
      "<title>\n"
     ]
    }
   ],
   "source": [
    "# question 3\n",
    "\n",
    "document_html = \"<title>+++BREAKING NEWS+++<title>\"\n",
    "print(re.match(\"<.+>\", document_html)[0])\n",
    "# .+ means one or many any character\n",
    "# > charactor is also an element of .\n",
    "# hence regex means to the lengthiest possible match for charactor >\n",
    "# In order to change it to select first match, use \"<.+?>\"\n",
    "print(re.match(\"<.+?>\", document_html)[0])\n",
    "\n"
   ]
  },
  {
   "cell_type": "markdown",
   "metadata": {},
   "source": [
    "## Question 4\n",
    "Extracting the formula from the given expression "
   ]
  },
  {
   "cell_type": "code",
   "execution_count": 8,
   "metadata": {},
   "outputs": [
    {
     "name": "stdout",
     "output_type": "stream",
     "text": [
      "(5-3)^2=5^2-2*5*3+3^2\n",
      "5^2-2*5*3+3^2\n"
     ]
    }
   ],
   "source": [
    "\n",
    "expression = \"(5-3)^2=5^2-2*5*3+3^2\"\n",
    "# print(re.match(\"[^0-9=+*()]+\", expression)[0])\n",
    "# 1. when you add ^ inside square brackets as the first charactor, it means to match all charactors not inside the brackets\n",
    "# 0-9 means all 10 numbers. - is not included to that. Hence you need to add - charactor as well\n",
    "print(re.match(\"[0-9+=*()^-]+\", expression)[0])\n",
    "print(re.findall(\"=([0-9+=*()^-]+)\", expression)[0])"
   ]
  },
  {
   "cell_type": "code",
   "execution_count": null,
   "metadata": {},
   "outputs": [],
   "source": []
  },
  {
   "cell_type": "code",
   "execution_count": null,
   "metadata": {},
   "outputs": [],
   "source": []
  },
  {
   "cell_type": "code",
   "execution_count": null,
   "metadata": {},
   "outputs": [],
   "source": []
  }
 ],
 "metadata": {
  "kernelspec": {
   "display_name": "Python 3",
   "language": "python",
   "name": "python3"
  },
  "language_info": {
   "codemirror_mode": {
    "name": "ipython",
    "version": 3
   },
   "file_extension": ".py",
   "mimetype": "text/x-python",
   "name": "python",
   "nbconvert_exporter": "python",
   "pygments_lexer": "ipython3",
   "version": "3.7.1"
  }
 },
 "nbformat": 4,
 "nbformat_minor": 2
}
