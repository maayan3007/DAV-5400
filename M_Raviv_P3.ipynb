{
 "cells": [
  {
   "cell_type": "markdown",
   "metadata": {},
   "source": [
    "# Tidy Data- Project 3\n",
    "### DAV 5400 Spring 2019 Week 10 \n",
    "__Maayan Raviv__\n",
    "***\n"
   ]
  },
  {
   "cell_type": "markdown",
   "metadata": {},
   "source": [
    "## Data Set 1\n",
    "Data set provided by: \n",
    "<br>\n",
    "__Qi Sun:__ Student enrollment data for different institutions in the academic year of 2016/2017\n",
    "<br>\n",
    "<br>\n",
    "__First Step:__ Insert the raw data into CSV file and read from GitHub."
   ]
  },
  {
   "cell_type": "code",
   "execution_count": 1,
   "metadata": {},
   "outputs": [
    {
     "data": {
      "text/html": [
       "<div>\n",
       "<style scoped>\n",
       "    .dataframe tbody tr th:only-of-type {\n",
       "        vertical-align: middle;\n",
       "    }\n",
       "\n",
       "    .dataframe tbody tr th {\n",
       "        vertical-align: top;\n",
       "    }\n",
       "\n",
       "    .dataframe thead th {\n",
       "        text-align: right;\n",
       "    }\n",
       "</style>\n",
       "<table border=\"1\" class=\"dataframe\">\n",
       "  <thead>\n",
       "    <tr style=\"text-align: right;\">\n",
       "      <th></th>\n",
       "      <th>Unique ID of the institution</th>\n",
       "      <th>Level of student</th>\n",
       "      <th>American Indian or Alaska Native</th>\n",
       "      <th>Asian</th>\n",
       "      <th>Black or African American</th>\n",
       "      <th>Hispanic or Latino</th>\n",
       "      <th>Native Hawaiian or Other Pacific Islander</th>\n",
       "      <th>White</th>\n",
       "      <th>Two or more races</th>\n",
       "      <th>Race/ethnicity unknown</th>\n",
       "      <th>Nonresident alien</th>\n",
       "    </tr>\n",
       "  </thead>\n",
       "  <tbody>\n",
       "    <tr>\n",
       "      <th>0</th>\n",
       "      <td>100654</td>\n",
       "      <td>Undergraduate</td>\n",
       "      <td>11</td>\n",
       "      <td>12</td>\n",
       "      <td>4742</td>\n",
       "      <td>36</td>\n",
       "      <td>10</td>\n",
       "      <td>137</td>\n",
       "      <td>210</td>\n",
       "      <td>11</td>\n",
       "      <td>38</td>\n",
       "    </tr>\n",
       "    <tr>\n",
       "      <th>1</th>\n",
       "      <td>100654</td>\n",
       "      <td>Graduate</td>\n",
       "      <td>4</td>\n",
       "      <td>11</td>\n",
       "      <td>961</td>\n",
       "      <td>7</td>\n",
       "      <td>1</td>\n",
       "      <td>151</td>\n",
       "      <td>14</td>\n",
       "      <td>3</td>\n",
       "      <td>33</td>\n",
       "    </tr>\n",
       "    <tr>\n",
       "      <th>2</th>\n",
       "      <td>100663</td>\n",
       "      <td>Undergraduate</td>\n",
       "      <td>36</td>\n",
       "      <td>743</td>\n",
       "      <td>3497</td>\n",
       "      <td>429</td>\n",
       "      <td>4</td>\n",
       "      <td>7515</td>\n",
       "      <td>522</td>\n",
       "      <td>198</td>\n",
       "      <td>364</td>\n",
       "    </tr>\n",
       "    <tr>\n",
       "      <th>3</th>\n",
       "      <td>100663</td>\n",
       "      <td>Graduate</td>\n",
       "      <td>23</td>\n",
       "      <td>471</td>\n",
       "      <td>1550</td>\n",
       "      <td>289</td>\n",
       "      <td>11</td>\n",
       "      <td>6437</td>\n",
       "      <td>269</td>\n",
       "      <td>176</td>\n",
       "      <td>659</td>\n",
       "    </tr>\n",
       "    <tr>\n",
       "      <th>4</th>\n",
       "      <td>100690</td>\n",
       "      <td>Undergraduate</td>\n",
       "      <td>0</td>\n",
       "      <td>2</td>\n",
       "      <td>195</td>\n",
       "      <td>44</td>\n",
       "      <td>1</td>\n",
       "      <td>66</td>\n",
       "      <td>0</td>\n",
       "      <td>123</td>\n",
       "      <td>0</td>\n",
       "    </tr>\n",
       "  </tbody>\n",
       "</table>\n",
       "</div>"
      ],
      "text/plain": [
       "   Unique ID of the institution Level of student  \\\n",
       "0                        100654    Undergraduate   \n",
       "1                        100654         Graduate   \n",
       "2                        100663    Undergraduate   \n",
       "3                        100663         Graduate   \n",
       "4                        100690    Undergraduate   \n",
       "\n",
       "   American Indian or Alaska Native  Asian  Black or African American  \\\n",
       "0                                11     12                       4742   \n",
       "1                                 4     11                        961   \n",
       "2                                36    743                       3497   \n",
       "3                                23    471                       1550   \n",
       "4                                 0      2                        195   \n",
       "\n",
       "   Hispanic or Latino  Native Hawaiian or Other Pacific Islander  White  \\\n",
       "0                  36                                         10    137   \n",
       "1                   7                                          1    151   \n",
       "2                 429                                          4   7515   \n",
       "3                 289                                         11   6437   \n",
       "4                  44                                          1     66   \n",
       "\n",
       "   Two or more races  Race/ethnicity unknown  Nonresident alien  \n",
       "0                210                      11                 38  \n",
       "1                 14                       3                 33  \n",
       "2                522                     198                364  \n",
       "3                269                     176                659  \n",
       "4                  0                     123                  0  "
      ]
     },
     "execution_count": 1,
     "metadata": {},
     "output_type": "execute_result"
    }
   ],
   "source": [
    "import pandas as pd \n",
    "import numpy as np\n",
    "import matplotlib.pyplot as plt\n",
    "\n",
    "CSV_file_source = \"https://raw.githubusercontent.com/maayan3007/DAV-5400/master/data1-P3.csv\"\n",
    "data = pd.read_csv(CSV_file_source)\n",
    "data.head()"
   ]
  },
  {
   "cell_type": "markdown",
   "metadata": {},
   "source": [
    "__Second Step:__ Converting the raw data to a \"tidy\", long format."
   ]
  },
  {
   "cell_type": "code",
   "execution_count": 3,
   "metadata": {},
   "outputs": [
    {
     "data": {
      "text/html": [
       "<div>\n",
       "<style scoped>\n",
       "    .dataframe tbody tr th:only-of-type {\n",
       "        vertical-align: middle;\n",
       "    }\n",
       "\n",
       "    .dataframe tbody tr th {\n",
       "        vertical-align: top;\n",
       "    }\n",
       "\n",
       "    .dataframe thead th {\n",
       "        text-align: right;\n",
       "    }\n",
       "</style>\n",
       "<table border=\"1\" class=\"dataframe\">\n",
       "  <thead>\n",
       "    <tr style=\"text-align: right;\">\n",
       "      <th></th>\n",
       "      <th>Unique ID of the institution</th>\n",
       "      <th>Level of student</th>\n",
       "      <th>Count1</th>\n",
       "      <th>Count2</th>\n",
       "      <th>Count3</th>\n",
       "      <th>Count4</th>\n",
       "      <th>Count5</th>\n",
       "      <th>Count6</th>\n",
       "      <th>Count7</th>\n",
       "      <th>Count8</th>\n",
       "      <th>Count9</th>\n",
       "    </tr>\n",
       "  </thead>\n",
       "  <tbody>\n",
       "    <tr>\n",
       "      <th>0</th>\n",
       "      <td>100654</td>\n",
       "      <td>Undergraduate</td>\n",
       "      <td>11</td>\n",
       "      <td>12</td>\n",
       "      <td>4742</td>\n",
       "      <td>36</td>\n",
       "      <td>10</td>\n",
       "      <td>137</td>\n",
       "      <td>210</td>\n",
       "      <td>11</td>\n",
       "      <td>38</td>\n",
       "    </tr>\n",
       "    <tr>\n",
       "      <th>1</th>\n",
       "      <td>100654</td>\n",
       "      <td>Graduate</td>\n",
       "      <td>4</td>\n",
       "      <td>11</td>\n",
       "      <td>961</td>\n",
       "      <td>7</td>\n",
       "      <td>1</td>\n",
       "      <td>151</td>\n",
       "      <td>14</td>\n",
       "      <td>3</td>\n",
       "      <td>33</td>\n",
       "    </tr>\n",
       "    <tr>\n",
       "      <th>2</th>\n",
       "      <td>100663</td>\n",
       "      <td>Undergraduate</td>\n",
       "      <td>36</td>\n",
       "      <td>743</td>\n",
       "      <td>3497</td>\n",
       "      <td>429</td>\n",
       "      <td>4</td>\n",
       "      <td>7515</td>\n",
       "      <td>522</td>\n",
       "      <td>198</td>\n",
       "      <td>364</td>\n",
       "    </tr>\n",
       "    <tr>\n",
       "      <th>3</th>\n",
       "      <td>100663</td>\n",
       "      <td>Graduate</td>\n",
       "      <td>23</td>\n",
       "      <td>471</td>\n",
       "      <td>1550</td>\n",
       "      <td>289</td>\n",
       "      <td>11</td>\n",
       "      <td>6437</td>\n",
       "      <td>269</td>\n",
       "      <td>176</td>\n",
       "      <td>659</td>\n",
       "    </tr>\n",
       "    <tr>\n",
       "      <th>4</th>\n",
       "      <td>100690</td>\n",
       "      <td>Undergraduate</td>\n",
       "      <td>0</td>\n",
       "      <td>2</td>\n",
       "      <td>195</td>\n",
       "      <td>44</td>\n",
       "      <td>1</td>\n",
       "      <td>66</td>\n",
       "      <td>0</td>\n",
       "      <td>123</td>\n",
       "      <td>0</td>\n",
       "    </tr>\n",
       "  </tbody>\n",
       "</table>\n",
       "</div>"
      ],
      "text/plain": [
       "   Unique ID of the institution Level of student  Count1  Count2  Count3  \\\n",
       "0                        100654    Undergraduate      11      12    4742   \n",
       "1                        100654         Graduate       4      11     961   \n",
       "2                        100663    Undergraduate      36     743    3497   \n",
       "3                        100663         Graduate      23     471    1550   \n",
       "4                        100690    Undergraduate       0       2     195   \n",
       "\n",
       "   Count4  Count5  Count6  Count7  Count8  Count9  \n",
       "0      36      10     137     210      11      38  \n",
       "1       7       1     151      14       3      33  \n",
       "2     429       4    7515     522     198     364  \n",
       "3     289      11    6437     269     176     659  \n",
       "4      44       1      66       0     123       0  "
      ]
     },
     "execution_count": 3,
     "metadata": {},
     "output_type": "execute_result"
    }
   ],
   "source": [
    "# Let's make the dataset long(tidy)\n",
    "# In order to use pandas wide_to_long function in pandas version below 0.24 column names should be following format\n",
    "# name-number\n",
    "# hence let's rename columns first\n",
    "columns = {\n",
    "    \"American Indian or Alaska Native\": \"Count1\",\n",
    "    \"Asian\": \"Count2\",\n",
    "    \"Black or African American\": \"Count3\",\n",
    "    \"Hispanic or Latino\": \"Count4\",\n",
    "    \"Native Hawaiian or Other Pacific Islander\": \"Count5\",\n",
    "    \"White\": \"Count6\",\n",
    "    \"Two or more races\": \"Count7\",\n",
    "    \"Race/ethnicity unknown\": \"Count8\",\n",
    "    \"Nonresident alien\": \"Count9\"\n",
    "          }\n",
    "data = data.rename(columns=columns)\n",
    "data.head()"
   ]
  },
  {
   "cell_type": "code",
   "execution_count": 4,
   "metadata": {},
   "outputs": [
    {
     "data": {
      "text/html": [
       "<div>\n",
       "<style scoped>\n",
       "    .dataframe tbody tr th:only-of-type {\n",
       "        vertical-align: middle;\n",
       "    }\n",
       "\n",
       "    .dataframe tbody tr th {\n",
       "        vertical-align: top;\n",
       "    }\n",
       "\n",
       "    .dataframe thead th {\n",
       "        text-align: right;\n",
       "    }\n",
       "</style>\n",
       "<table border=\"1\" class=\"dataframe\">\n",
       "  <thead>\n",
       "    <tr style=\"text-align: right;\">\n",
       "      <th></th>\n",
       "      <th></th>\n",
       "      <th>Level of student</th>\n",
       "      <th>Unique ID of the institution</th>\n",
       "      <th>Count</th>\n",
       "    </tr>\n",
       "    <tr>\n",
       "      <th>id</th>\n",
       "      <th>Ethnicity</th>\n",
       "      <th></th>\n",
       "      <th></th>\n",
       "      <th></th>\n",
       "    </tr>\n",
       "  </thead>\n",
       "  <tbody>\n",
       "    <tr>\n",
       "      <th>0</th>\n",
       "      <th>1</th>\n",
       "      <td>Undergraduate</td>\n",
       "      <td>100654</td>\n",
       "      <td>11</td>\n",
       "    </tr>\n",
       "    <tr>\n",
       "      <th>1</th>\n",
       "      <th>1</th>\n",
       "      <td>Graduate</td>\n",
       "      <td>100654</td>\n",
       "      <td>4</td>\n",
       "    </tr>\n",
       "    <tr>\n",
       "      <th>2</th>\n",
       "      <th>1</th>\n",
       "      <td>Undergraduate</td>\n",
       "      <td>100663</td>\n",
       "      <td>36</td>\n",
       "    </tr>\n",
       "    <tr>\n",
       "      <th>3</th>\n",
       "      <th>1</th>\n",
       "      <td>Graduate</td>\n",
       "      <td>100663</td>\n",
       "      <td>23</td>\n",
       "    </tr>\n",
       "    <tr>\n",
       "      <th>4</th>\n",
       "      <th>1</th>\n",
       "      <td>Undergraduate</td>\n",
       "      <td>100690</td>\n",
       "      <td>0</td>\n",
       "    </tr>\n",
       "  </tbody>\n",
       "</table>\n",
       "</div>"
      ],
      "text/plain": [
       "             Level of student  Unique ID of the institution  Count\n",
       "id Ethnicity                                                      \n",
       "0  1            Undergraduate                        100654     11\n",
       "1  1                 Graduate                        100654      4\n",
       "2  1            Undergraduate                        100663     36\n",
       "3  1                 Graduate                        100663     23\n",
       "4  1            Undergraduate                        100690      0"
      ]
     },
     "execution_count": 4,
     "metadata": {},
     "output_type": "execute_result"
    }
   ],
   "source": [
    "# futher reference: https://pandas.pydata.org/pandas-docs/stable/reference/api/pandas.wide_to_long.html\n",
    "data[\"id\"] = data.index # add index column\n",
    "data = pd.wide_to_long(data, [\"Count\"], i=\"id\", j=\"Ethnicity\")\n",
    "data.head()\n"
   ]
  },
  {
   "cell_type": "code",
   "execution_count": 5,
   "metadata": {},
   "outputs": [
    {
     "data": {
      "text/html": [
       "<div>\n",
       "<style scoped>\n",
       "    .dataframe tbody tr th:only-of-type {\n",
       "        vertical-align: middle;\n",
       "    }\n",
       "\n",
       "    .dataframe tbody tr th {\n",
       "        vertical-align: top;\n",
       "    }\n",
       "\n",
       "    .dataframe thead th {\n",
       "        text-align: right;\n",
       "    }\n",
       "</style>\n",
       "<table border=\"1\" class=\"dataframe\">\n",
       "  <thead>\n",
       "    <tr style=\"text-align: right;\">\n",
       "      <th></th>\n",
       "      <th>Ethnicity</th>\n",
       "      <th>Level of student</th>\n",
       "      <th>Unique ID of the institution</th>\n",
       "      <th>Count</th>\n",
       "    </tr>\n",
       "  </thead>\n",
       "  <tbody>\n",
       "    <tr>\n",
       "      <th>0</th>\n",
       "      <td>American Indian or Alaska Native</td>\n",
       "      <td>Undergraduate</td>\n",
       "      <td>100654</td>\n",
       "      <td>11</td>\n",
       "    </tr>\n",
       "    <tr>\n",
       "      <th>1</th>\n",
       "      <td>American Indian or Alaska Native</td>\n",
       "      <td>Graduate</td>\n",
       "      <td>100654</td>\n",
       "      <td>4</td>\n",
       "    </tr>\n",
       "    <tr>\n",
       "      <th>2</th>\n",
       "      <td>American Indian or Alaska Native</td>\n",
       "      <td>Undergraduate</td>\n",
       "      <td>100663</td>\n",
       "      <td>36</td>\n",
       "    </tr>\n",
       "    <tr>\n",
       "      <th>3</th>\n",
       "      <td>American Indian or Alaska Native</td>\n",
       "      <td>Graduate</td>\n",
       "      <td>100663</td>\n",
       "      <td>23</td>\n",
       "    </tr>\n",
       "    <tr>\n",
       "      <th>4</th>\n",
       "      <td>American Indian or Alaska Native</td>\n",
       "      <td>Undergraduate</td>\n",
       "      <td>100690</td>\n",
       "      <td>0</td>\n",
       "    </tr>\n",
       "  </tbody>\n",
       "</table>\n",
       "</div>"
      ],
      "text/plain": [
       "                          Ethnicity Level of student  \\\n",
       "0  American Indian or Alaska Native    Undergraduate   \n",
       "1  American Indian or Alaska Native         Graduate   \n",
       "2  American Indian or Alaska Native    Undergraduate   \n",
       "3  American Indian or Alaska Native         Graduate   \n",
       "4  American Indian or Alaska Native    Undergraduate   \n",
       "\n",
       "   Unique ID of the institution  Count  \n",
       "0                        100654     11  \n",
       "1                        100654      4  \n",
       "2                        100663     36  \n",
       "3                        100663     23  \n",
       "4                        100690      0  "
      ]
     },
     "execution_count": 5,
     "metadata": {},
     "output_type": "execute_result"
    }
   ],
   "source": [
    "# Let's remove indexing and make ethnicity back to string values\n",
    "data_long = data.copy()\n",
    "data_long = data_long.reset_index()\n",
    "data_long = data_long.drop(['id'], axis=1)\n",
    "\n",
    "# Make ethnicity back to string values\n",
    "mapper = {\n",
    "    1: \"American Indian or Alaska Native\",\n",
    "    2: \"Asian\",\n",
    "    3: \"Black or African American\",\n",
    "    4: \"Hispanic or Latino\",\n",
    "    5: \"Native Hawaiian or Other Pacific Islander\",\n",
    "    6: \"White\",\n",
    "    7: \"Two or more races\",\n",
    "    8: \"Race/ethnicity unknown\",\n",
    "    9: \"Nonresident alien\"\n",
    "}\n",
    "\n",
    "data_long['Ethnicity'] = data_long['Ethnicity'].map(mapper)\n",
    "data_long.head()"
   ]
  },
  {
   "cell_type": "markdown",
   "metadata": {},
   "source": [
    "__Third Step:__ Perform Analysis\n",
    "<br>\n",
    "### Number of Enrollments by Ethnicity\n",
    "According to the bar chart we can tell that most of the enrollments are white."
   ]
  },
  {
   "cell_type": "code",
   "execution_count": 6,
   "metadata": {},
   "outputs": [
    {
     "name": "stdout",
     "output_type": "stream",
     "text": [
      "                                   Ethnicity  Count\n",
      "8                                      White  20972\n",
      "2                  Black or African American  12112\n",
      "5                          Nonresident alien   1676\n",
      "1                                      Asian   1615\n",
      "6                     Race/ethnicity unknown   1363\n",
      "3                         Hispanic or Latino   1225\n",
      "7                          Two or more races   1164\n",
      "0           American Indian or Alaska Native    189\n",
      "4  Native Hawaiian or Other Pacific Islander     34\n"
     ]
    },
    {
     "data": {
      "image/png": "[encoded data removed]",
      "text/plain": [
       "<Figure size 720x360 with 1 Axes>"
      ]
     },
     "metadata": {
      "needs_background": "light"
     },
     "output_type": "display_data"
    }
   ],
   "source": [
    "# Groupby 'Ethinicity' and aggregate records of each group on 'Count' column with sum aggregate function. Then sort the dataframe on 'Count' in decending order\n",
    "data_long_copy = data_long.copy()\n",
    "data_long_copy = data_long_copy.groupby(['Ethnicity'], as_index=False).agg({'Count': 'sum'}).sort_values(by='Count', ascending=False)\n",
    "\n",
    "print(data_long_copy)\n",
    "\n",
    "# Bar chart\n",
    "names = list(data_long_copy['Ethnicity'])\n",
    "values = list(data_long_copy['Count'])\n",
    "\n",
    "plt.figure(figsize=(10,5))\n",
    "plt.bar(names, values)\n",
    "plt.title('Number of Enrollments by Ethnicity')\n",
    "plt.xticks(names, rotation='vertical')\n",
    "plt.ylabel('Number of Enrollments')\n",
    "plt.xlabel('Ethnicity')\n",
    "plt.show()"
   ]
  },
  {
   "cell_type": "markdown",
   "metadata": {},
   "source": [
    "### Number of Enrollments per Institution\n",
    "According to the bar chart we can tell that most of the enrollments enrolled to institution 100663\n"
   ]
  },
  {
   "cell_type": "code",
   "execution_count": 7,
   "metadata": {},
   "outputs": [
    {
     "name": "stdout",
     "output_type": "stream",
     "text": [
      "   Unique ID of the institution  Count\n",
      "1                        100663  23193\n",
      "3                        100706   9897\n",
      "0                        100654   6392\n",
      "2                        100690    868\n"
     ]
    },
    {
     "data": {
      "image/png": "[encoded data removed]",
      "text/plain": [
       "<Figure size 720x360 with 1 Axes>"
      ]
     },
     "metadata": {
      "needs_background": "light"
     },
     "output_type": "display_data"
    }
   ],
   "source": [
    "# Groupby 'Unique ID of the institution' and aggregate records of each group on 'Count' column with sum aggregate function. Then sort the dataframe on 'Count' in decending order\n",
    "data_long_copy = data_long.copy()\n",
    "data_long_copy = data_long_copy.groupby(['Unique ID of the institution'], as_index=False).agg({'Count': 'sum'}).sort_values(by='Count', ascending=False)\n",
    "\n",
    "print(data_long_copy)\n",
    "\n",
    "# Bar chart\n",
    "names = [str(i) for i in data_long_copy['Unique ID of the institution']]\n",
    "values = list(data_long_copy['Count'])\n",
    "\n",
    "plt.figure(figsize=(10,5))\n",
    "plt.barh(names, values)\n",
    "plt.title('Number of Enrollments per Institution')\n",
    "plt.ylabel('Number of Enrollments')\n",
    "plt.xlabel('Unique ID of the institution')\n",
    "plt.show()"
   ]
  },
  {
   "cell_type": "markdown",
   "metadata": {},
   "source": [
    "### Number of Enrolments by School Level\n",
    "According to the bar chart we can tell that most of the enrollments enrolled to undergrad school."
   ]
  },
  {
   "cell_type": "code",
   "execution_count": 8,
   "metadata": {},
   "outputs": [
    {
     "name": "stdout",
     "output_type": "stream",
     "text": [
      "  Level of student  Count\n",
      "1    Undergraduate  26465\n",
      "0         Graduate  13885\n"
     ]
    },
    {
     "data": {
      "image/png": "[encoded data removed]",
      "text/plain": [
       "<Figure size 432x288 with 1 Axes>"
      ]
     },
     "metadata": {
      "needs_background": "light"
     },
     "output_type": "display_data"
    }
   ],
   "source": [
    "# Groupby 'Unique ID of the institution' and aggregate records of each group on 'Count' column with sum aggregate function. Then sort the dataframe on 'Count' in decending order\n",
    "data_long_copy = data_long.copy()\n",
    "data_long_copy = data_long_copy.groupby(['Level of student'], as_index=False).agg({'Count': 'sum'}).sort_values(by='Count', ascending=False)\n",
    "\n",
    "print(data_long_copy)\n",
    "\n",
    "# Bar chart\n",
    "names = [str(i) for i in data_long_copy['Level of student']]\n",
    "values = list(data_long_copy['Count'])\n",
    "\n",
    "plt.bar(names, values)\n",
    "plt.title('Number of Enrolments by School Level')\n",
    "plt.ylabel('Number of Enrollmentst')\n",
    "plt.xlabel('School Level')\n",
    "plt.show()"
   ]
  },
  {
   "cell_type": "markdown",
   "metadata": {},
   "source": [
    "## Data Set 2\n",
    "Data set provided by: \n",
    "<br>\n",
    "__Jeeho Bae:__ User Review Data \n",
    "<br>\n",
    "<br>\n",
    "__First Step:__ Insert the raw data into CSV file and read from GitHub."
   ]
  },
  {
   "cell_type": "code",
   "execution_count": 26,
   "metadata": {},
   "outputs": [
    {
     "data": {
      "text/html": [
       "<div>\n",
       "<style scoped>\n",
       "    .dataframe tbody tr th:only-of-type {\n",
       "        vertical-align: middle;\n",
       "    }\n",
       "\n",
       "    .dataframe tbody tr th {\n",
       "        vertical-align: top;\n",
       "    }\n",
       "\n",
       "    .dataframe thead th {\n",
       "        text-align: right;\n",
       "    }\n",
       "</style>\n",
       "<table border=\"1\" class=\"dataframe\">\n",
       "  <thead>\n",
       "    <tr style=\"text-align: right;\">\n",
       "      <th></th>\n",
       "      <th>User Id</th>\n",
       "      <th>Sports</th>\n",
       "      <th>Religious</th>\n",
       "      <th>Nature</th>\n",
       "      <th>Theatre</th>\n",
       "      <th>Shopping</th>\n",
       "      <th>Picnic</th>\n",
       "    </tr>\n",
       "  </thead>\n",
       "  <tbody>\n",
       "    <tr>\n",
       "      <th>0</th>\n",
       "      <td>user 1</td>\n",
       "      <td>2</td>\n",
       "      <td>77</td>\n",
       "      <td>79</td>\n",
       "      <td>69</td>\n",
       "      <td>68</td>\n",
       "      <td>95</td>\n",
       "    </tr>\n",
       "    <tr>\n",
       "      <th>1</th>\n",
       "      <td>user 2</td>\n",
       "      <td>2</td>\n",
       "      <td>62</td>\n",
       "      <td>76</td>\n",
       "      <td>76</td>\n",
       "      <td>69</td>\n",
       "      <td>68</td>\n",
       "    </tr>\n",
       "    <tr>\n",
       "      <th>2</th>\n",
       "      <td>user 3</td>\n",
       "      <td>2</td>\n",
       "      <td>50</td>\n",
       "      <td>97</td>\n",
       "      <td>87</td>\n",
       "      <td>50</td>\n",
       "      <td>75</td>\n",
       "    </tr>\n",
       "    <tr>\n",
       "      <th>3</th>\n",
       "      <td>user 4</td>\n",
       "      <td>2</td>\n",
       "      <td>68</td>\n",
       "      <td>77</td>\n",
       "      <td>95</td>\n",
       "      <td>76</td>\n",
       "      <td>61</td>\n",
       "    </tr>\n",
       "    <tr>\n",
       "      <th>4</th>\n",
       "      <td>user 5</td>\n",
       "      <td>2</td>\n",
       "      <td>98</td>\n",
       "      <td>54</td>\n",
       "      <td>59</td>\n",
       "      <td>95</td>\n",
       "      <td>86</td>\n",
       "    </tr>\n",
       "  </tbody>\n",
       "</table>\n",
       "</div>"
      ],
      "text/plain": [
       "  User Id  Sports  Religious  Nature  Theatre  Shopping  Picnic\n",
       "0  user 1       2         77      79       69        68      95\n",
       "1  user 2       2         62      76       76        69      68\n",
       "2  user 3       2         50      97       87        50      75\n",
       "3  user 4       2         68      77       95        76      61\n",
       "4  user 5       2         98      54       59        95      86"
      ]
     },
     "execution_count": 26,
     "metadata": {},
     "output_type": "execute_result"
    }
   ],
   "source": [
    "# Reading the second dataset\n",
    "CSV_file_source = \"https://raw.githubusercontent.com/maayan3007/DAV-5400/master/data2-P3.csv\"\n",
    "data = pd.read_csv(CSV_file_source, index_col=0)\n",
    "data.head()"
   ]
  },
  {
   "cell_type": "markdown",
   "metadata": {},
   "source": [
    "__Second Step:__ Converting the raw data to a \"tidy\", long format."
   ]
  },
  {
   "cell_type": "code",
   "execution_count": 27,
   "metadata": {},
   "outputs": [
    {
     "data": {
      "text/html": [
       "<div>\n",
       "<style scoped>\n",
       "    .dataframe tbody tr th:only-of-type {\n",
       "        vertical-align: middle;\n",
       "    }\n",
       "\n",
       "    .dataframe tbody tr th {\n",
       "        vertical-align: top;\n",
       "    }\n",
       "\n",
       "    .dataframe thead th {\n",
       "        text-align: right;\n",
       "    }\n",
       "</style>\n",
       "<table border=\"1\" class=\"dataframe\">\n",
       "  <thead>\n",
       "    <tr style=\"text-align: right;\">\n",
       "      <th></th>\n",
       "      <th>User Id</th>\n",
       "      <th>Number of reviews1</th>\n",
       "      <th>Number of reviews2</th>\n",
       "      <th>Number of reviews3</th>\n",
       "      <th>Number of reviews4</th>\n",
       "      <th>Number of reviews5</th>\n",
       "      <th>Number of reviews6</th>\n",
       "    </tr>\n",
       "  </thead>\n",
       "  <tbody>\n",
       "    <tr>\n",
       "      <th>0</th>\n",
       "      <td>user 1</td>\n",
       "      <td>2</td>\n",
       "      <td>77</td>\n",
       "      <td>79</td>\n",
       "      <td>69</td>\n",
       "      <td>68</td>\n",
       "      <td>95</td>\n",
       "    </tr>\n",
       "    <tr>\n",
       "      <th>1</th>\n",
       "      <td>user 2</td>\n",
       "      <td>2</td>\n",
       "      <td>62</td>\n",
       "      <td>76</td>\n",
       "      <td>76</td>\n",
       "      <td>69</td>\n",
       "      <td>68</td>\n",
       "    </tr>\n",
       "    <tr>\n",
       "      <th>2</th>\n",
       "      <td>user 3</td>\n",
       "      <td>2</td>\n",
       "      <td>50</td>\n",
       "      <td>97</td>\n",
       "      <td>87</td>\n",
       "      <td>50</td>\n",
       "      <td>75</td>\n",
       "    </tr>\n",
       "    <tr>\n",
       "      <th>3</th>\n",
       "      <td>user 4</td>\n",
       "      <td>2</td>\n",
       "      <td>68</td>\n",
       "      <td>77</td>\n",
       "      <td>95</td>\n",
       "      <td>76</td>\n",
       "      <td>61</td>\n",
       "    </tr>\n",
       "    <tr>\n",
       "      <th>4</th>\n",
       "      <td>user 5</td>\n",
       "      <td>2</td>\n",
       "      <td>98</td>\n",
       "      <td>54</td>\n",
       "      <td>59</td>\n",
       "      <td>95</td>\n",
       "      <td>86</td>\n",
       "    </tr>\n",
       "  </tbody>\n",
       "</table>\n",
       "</div>"
      ],
      "text/plain": [
       "  User Id  Number of reviews1  Number of reviews2  Number of reviews3  \\\n",
       "0  user 1                   2                  77                  79   \n",
       "1  user 2                   2                  62                  76   \n",
       "2  user 3                   2                  50                  97   \n",
       "3  user 4                   2                  68                  77   \n",
       "4  user 5                   2                  98                  54   \n",
       "\n",
       "   Number of reviews4  Number of reviews5  Number of reviews6  \n",
       "0                  69                  68                  95  \n",
       "1                  76                  69                  68  \n",
       "2                  87                  50                  75  \n",
       "3                  95                  76                  61  \n",
       "4                  59                  95                  86  "
      ]
     },
     "execution_count": 27,
     "metadata": {},
     "output_type": "execute_result"
    }
   ],
   "source": [
    "# Let's make the dataset long(tidy)\n",
    "# In order to use pandas wide_to_long function in pandas version below 0.24 column names should be following format\n",
    "# name-number\n",
    "# hence let's rename columns first\n",
    "columns = {\n",
    "    \"Sports\": \"Number of reviews1\",\n",
    "    \"Religious\": \"Number of reviews2\",\n",
    "    \"Nature\": \"Number of reviews3\",\n",
    "    \"Theatre\": \"Number of reviews4\",\n",
    "    \"Shopping\": \"Number of reviews5\",\n",
    "    \"Picnic\": \"Number of reviews6\",\n",
    "          }\n",
    "data = data.rename(columns=columns)\n",
    "data.head()"
   ]
  },
  {
   "cell_type": "code",
   "execution_count": 28,
   "metadata": {},
   "outputs": [
    {
     "data": {
      "text/html": [
       "<div>\n",
       "<style scoped>\n",
       "    .dataframe tbody tr th:only-of-type {\n",
       "        vertical-align: middle;\n",
       "    }\n",
       "\n",
       "    .dataframe tbody tr th {\n",
       "        vertical-align: top;\n",
       "    }\n",
       "\n",
       "    .dataframe thead th {\n",
       "        text-align: right;\n",
       "    }\n",
       "</style>\n",
       "<table border=\"1\" class=\"dataframe\">\n",
       "  <thead>\n",
       "    <tr style=\"text-align: right;\">\n",
       "      <th></th>\n",
       "      <th></th>\n",
       "      <th>User Id</th>\n",
       "      <th>Number of reviews</th>\n",
       "    </tr>\n",
       "    <tr>\n",
       "      <th>id</th>\n",
       "      <th>Category</th>\n",
       "      <th></th>\n",
       "      <th></th>\n",
       "    </tr>\n",
       "  </thead>\n",
       "  <tbody>\n",
       "    <tr>\n",
       "      <th>0</th>\n",
       "      <th>1</th>\n",
       "      <td>user 1</td>\n",
       "      <td>2</td>\n",
       "    </tr>\n",
       "    <tr>\n",
       "      <th>1</th>\n",
       "      <th>1</th>\n",
       "      <td>user 2</td>\n",
       "      <td>2</td>\n",
       "    </tr>\n",
       "    <tr>\n",
       "      <th>2</th>\n",
       "      <th>1</th>\n",
       "      <td>user 3</td>\n",
       "      <td>2</td>\n",
       "    </tr>\n",
       "    <tr>\n",
       "      <th>3</th>\n",
       "      <th>1</th>\n",
       "      <td>user 4</td>\n",
       "      <td>2</td>\n",
       "    </tr>\n",
       "    <tr>\n",
       "      <th>4</th>\n",
       "      <th>1</th>\n",
       "      <td>user 5</td>\n",
       "      <td>2</td>\n",
       "    </tr>\n",
       "  </tbody>\n",
       "</table>\n",
       "</div>"
      ],
      "text/plain": [
       "            User Id  Number of reviews\n",
       "id Category                           \n",
       "0  1         user 1                  2\n",
       "1  1         user 2                  2\n",
       "2  1         user 3                  2\n",
       "3  1         user 4                  2\n",
       "4  1         user 5                  2"
      ]
     },
     "execution_count": 28,
     "metadata": {},
     "output_type": "execute_result"
    }
   ],
   "source": [
    "# futher reference: https://pandas.pydata.org/pandas-docs/stable/reference/api/pandas.wide_to_long.html\n",
    "data[\"id\"] = data.index # add index column\n",
    "data = pd.wide_to_long(data, [\"Number of reviews\"], i=\"id\", j=\"Category\")\n",
    "data.head()"
   ]
  },
  {
   "cell_type": "code",
   "execution_count": 29,
   "metadata": {},
   "outputs": [
    {
     "data": {
      "text/html": [
       "<div>\n",
       "<style scoped>\n",
       "    .dataframe tbody tr th:only-of-type {\n",
       "        vertical-align: middle;\n",
       "    }\n",
       "\n",
       "    .dataframe tbody tr th {\n",
       "        vertical-align: top;\n",
       "    }\n",
       "\n",
       "    .dataframe thead th {\n",
       "        text-align: right;\n",
       "    }\n",
       "</style>\n",
       "<table border=\"1\" class=\"dataframe\">\n",
       "  <thead>\n",
       "    <tr style=\"text-align: right;\">\n",
       "      <th></th>\n",
       "      <th>Category</th>\n",
       "      <th>User Id</th>\n",
       "      <th>Number of reviews</th>\n",
       "    </tr>\n",
       "  </thead>\n",
       "  <tbody>\n",
       "    <tr>\n",
       "      <th>0</th>\n",
       "      <td>Sports</td>\n",
       "      <td>user 1</td>\n",
       "      <td>2</td>\n",
       "    </tr>\n",
       "    <tr>\n",
       "      <th>1</th>\n",
       "      <td>Sports</td>\n",
       "      <td>user 2</td>\n",
       "      <td>2</td>\n",
       "    </tr>\n",
       "    <tr>\n",
       "      <th>2</th>\n",
       "      <td>Sports</td>\n",
       "      <td>user 3</td>\n",
       "      <td>2</td>\n",
       "    </tr>\n",
       "    <tr>\n",
       "      <th>3</th>\n",
       "      <td>Sports</td>\n",
       "      <td>user 4</td>\n",
       "      <td>2</td>\n",
       "    </tr>\n",
       "    <tr>\n",
       "      <th>4</th>\n",
       "      <td>Sports</td>\n",
       "      <td>user 5</td>\n",
       "      <td>2</td>\n",
       "    </tr>\n",
       "  </tbody>\n",
       "</table>\n",
       "</div>"
      ],
      "text/plain": [
       "  Category User Id  Number of reviews\n",
       "0   Sports  user 1                  2\n",
       "1   Sports  user 2                  2\n",
       "2   Sports  user 3                  2\n",
       "3   Sports  user 4                  2\n",
       "4   Sports  user 5                  2"
      ]
     },
     "execution_count": 29,
     "metadata": {},
     "output_type": "execute_result"
    }
   ],
   "source": [
    "# Let's remove indexing and make Category back to string values\n",
    "data_long = data.copy()\n",
    "data_long = data_long.reset_index()\n",
    "data_long = data_long.drop(['id'], axis=1)\n",
    "\n",
    "# Make Category back to string values\n",
    "mapper = {\n",
    "    1: \"Sports\",\n",
    "    2: \"Religious\",\n",
    "    3: \"Nature\",\n",
    "    4: \"Theatre\",\n",
    "    5: \"Shopping\",\n",
    "    6: \"Picnic\",\n",
    "}\n",
    "\n",
    "data_long['Category'] = data_long['Category'].map(mapper)\n",
    "data_long.head()"
   ]
  },
  {
   "cell_type": "markdown",
   "metadata": {},
   "source": [
    "__Third Step:__ Perform Analysis\n",
    "<br>\n",
    "### Number of Reviews Per Category\n",
    "According to the bar chart most reviews where given to the Theatre category. However, most categories has similar number of reviews beside Sport Category with only 10 reviews. "
   ]
  },
  {
   "cell_type": "code",
   "execution_count": 35,
   "metadata": {},
   "outputs": [
    {
     "name": "stdout",
     "output_type": "stream",
     "text": [
      "    Category  Number of reviews\n",
      "5    Theatre                386\n",
      "1     Picnic                385\n",
      "0     Nature                383\n",
      "3   Shopping                358\n",
      "2  Religious                355\n",
      "4     Sports                 10\n"
     ]
    },
    {
     "data": {
      "image/png": "[encoded data removed]",
      "text/plain": [
       "<Figure size 720x360 with 1 Axes>"
      ]
     },
     "metadata": {
      "needs_background": "light"
     },
     "output_type": "display_data"
    }
   ],
   "source": [
    "# Groupby 'Category' and aggregate records of each group on 'Number of reviews' column with sum aggregate function.\n",
    "data_long_copy = data_long.copy()\n",
    "data_long_copy = data_long_copy.groupby(['Category'], as_index=False).agg({'Number of reviews': 'sum'}).sort_values(by='Number of reviews',ascending=False)\n",
    "\n",
    "print(data_long_copy)\n",
    "\n",
    "# Bar chart\n",
    "names = list(data_long_copy['Category'])\n",
    "values = list(data_long_copy['Number of reviews'])\n",
    "\n",
    "plt.figure(figsize=(10,5))\n",
    "plt.bar(names, values)\n",
    "plt.title('Number of Reviews Per Category')\n",
    "plt.xticks(names, rotation='vertical')\n",
    "plt.ylabel('Number of reviews')\n",
    "plt.xlabel('Category')\n",
    "plt.show()"
   ]
  },
  {
   "cell_type": "markdown",
   "metadata": {},
   "source": [
    "### Box Plot Per Category\n",
    "* The Median of most boxplots is similiar beside sports category.  \n",
    "* Sport's and Nature's box plots are comparatively short, meaning that most reviwers reviewed the same number of reviews for those categories.\n",
    "* Picnic's and Theatre's box plot's are comparatively tall, meaning that the number of reviews per category was different among the reviewers. \n",
    "* Sport's box plot is much lower than the others, meaning there is a difference between this category to the others which can be emphsized by the low number of reviews for this category."
   ]
  },
  {
   "cell_type": "code",
   "execution_count": 37,
   "metadata": {},
   "outputs": [
    {
     "name": "stdout",
     "output_type": "stream",
     "text": [
      "          Number of reviews                                               \n",
      "                      count  mean        std   min   25%   50%   75%   max\n",
      "Category                                                                  \n",
      "Nature                  5.0  76.6  15.274161  54.0  76.0  77.0  79.0  97.0\n",
      "Picnic                  5.0  77.0  13.656500  61.0  68.0  75.0  86.0  95.0\n",
      "Religious               5.0  71.0  18.000000  50.0  62.0  68.0  77.0  98.0\n",
      "Shopping                5.0  71.6  16.226522  50.0  68.0  69.0  76.0  95.0\n",
      "Sports                  5.0   2.0   0.000000   2.0   2.0   2.0   2.0   2.0\n",
      "Theatre                 5.0  77.2  14.254824  59.0  69.0  76.0  87.0  95.0\n"
     ]
    },
    {
     "data": {
      "image/png": "[encoded data removed]",
      "text/plain": [
       "<Figure size 1080x432 with 1 Axes>"
      ]
     },
     "metadata": {
      "needs_background": "light"
     },
     "output_type": "display_data"
    }
   ],
   "source": [
    "# Groupby 'Category'\n",
    "data_long_copy = data_long.copy()\n",
    "data_groupby = data_long_copy.groupby(['Category'])\n",
    "\n",
    "print(data_groupby.describe())\n",
    "\n",
    "axes = data_groupby.boxplot(subplots=False, figsize=(15, 6), showfliers=False) # draw boxplot based on groups\n",
    "axes.set_title(\"Box Plot Per Category\")\n",
    "axes.set_ylabel(\"# of reviews\")\n",
    "axes.set_xlabel(\"Category\")\n",
    "axes.set_xticklabels(list(data_groupby.groups.keys()))\n",
    "plt.show()"
   ]
  },
  {
   "cell_type": "markdown",
   "metadata": {},
   "source": [
    "## Data Set 3\n",
    "Data set provided by: \n",
    "<br>\n",
    "__Natan Bienstock:__ Student Test Data \n",
    "<br>\n",
    "<br>\n",
    "__First Step:__ Insert the raw data into CSV file and read from GitHub."
   ]
  },
  {
   "cell_type": "code",
   "execution_count": 38,
   "metadata": {},
   "outputs": [
    {
     "data": {
      "text/html": [
       "<div>\n",
       "<style scoped>\n",
       "    .dataframe tbody tr th:only-of-type {\n",
       "        vertical-align: middle;\n",
       "    }\n",
       "\n",
       "    .dataframe tbody tr th {\n",
       "        vertical-align: top;\n",
       "    }\n",
       "\n",
       "    .dataframe thead th {\n",
       "        text-align: right;\n",
       "    }\n",
       "</style>\n",
       "<table border=\"1\" class=\"dataframe\">\n",
       "  <thead>\n",
       "    <tr style=\"text-align: right;\">\n",
       "      <th></th>\n",
       "      <th>Name</th>\n",
       "      <th>Test 1</th>\n",
       "      <th>Test 2</th>\n",
       "      <th>Test 3</th>\n",
       "      <th>Test 4</th>\n",
       "    </tr>\n",
       "  </thead>\n",
       "  <tbody>\n",
       "    <tr>\n",
       "      <th>0</th>\n",
       "      <td>Reggie Miller</td>\n",
       "      <td>97.0</td>\n",
       "      <td>80</td>\n",
       "      <td>87.0</td>\n",
       "      <td>91</td>\n",
       "    </tr>\n",
       "    <tr>\n",
       "      <th>1</th>\n",
       "      <td>Dan Bonner</td>\n",
       "      <td>76.0</td>\n",
       "      <td>68</td>\n",
       "      <td>80.0</td>\n",
       "      <td>81</td>\n",
       "    </tr>\n",
       "    <tr>\n",
       "      <th>2</th>\n",
       "      <td>Steve Smith</td>\n",
       "      <td>84.0</td>\n",
       "      <td>75</td>\n",
       "      <td>NaN</td>\n",
       "      <td>86</td>\n",
       "    </tr>\n",
       "    <tr>\n",
       "      <th>3</th>\n",
       "      <td>Charles Barkey</td>\n",
       "      <td>NaN</td>\n",
       "      <td>89</td>\n",
       "      <td>NaN</td>\n",
       "      <td>76</td>\n",
       "    </tr>\n",
       "    <tr>\n",
       "      <th>4</th>\n",
       "      <td>Kenny Smith</td>\n",
       "      <td>80.0</td>\n",
       "      <td>81</td>\n",
       "      <td>79.0</td>\n",
       "      <td>85</td>\n",
       "    </tr>\n",
       "  </tbody>\n",
       "</table>\n",
       "</div>"
      ],
      "text/plain": [
       "             Name  Test 1  Test 2  Test 3  Test 4\n",
       "0   Reggie Miller    97.0      80    87.0      91\n",
       "1      Dan Bonner    76.0      68    80.0      81\n",
       "2     Steve Smith    84.0      75     NaN      86\n",
       "3  Charles Barkey     NaN      89     NaN      76\n",
       "4     Kenny Smith    80.0      81    79.0      85"
      ]
     },
     "execution_count": 38,
     "metadata": {},
     "output_type": "execute_result"
    }
   ],
   "source": [
    "# Reading the third dataset\n",
    "CSV_file_source = \"https://raw.githubusercontent.com/maayan3007/DAV-5400/master/data3-P3.csv\"\n",
    "data = pd.read_csv(CSV_file_source)\n",
    "data.head()"
   ]
  },
  {
   "cell_type": "markdown",
   "metadata": {},
   "source": [
    "__Second Step:__ Converting the raw data to a \"tidy\", long format."
   ]
  },
  {
   "cell_type": "code",
   "execution_count": 39,
   "metadata": {},
   "outputs": [
    {
     "data": {
      "text/html": [
       "<div>\n",
       "<style scoped>\n",
       "    .dataframe tbody tr th:only-of-type {\n",
       "        vertical-align: middle;\n",
       "    }\n",
       "\n",
       "    .dataframe tbody tr th {\n",
       "        vertical-align: top;\n",
       "    }\n",
       "\n",
       "    .dataframe thead th {\n",
       "        text-align: right;\n",
       "    }\n",
       "</style>\n",
       "<table border=\"1\" class=\"dataframe\">\n",
       "  <thead>\n",
       "    <tr style=\"text-align: right;\">\n",
       "      <th></th>\n",
       "      <th></th>\n",
       "      <th>Name</th>\n",
       "      <th>Test</th>\n",
       "    </tr>\n",
       "    <tr>\n",
       "      <th>id</th>\n",
       "      <th>Test</th>\n",
       "      <th></th>\n",
       "      <th></th>\n",
       "    </tr>\n",
       "  </thead>\n",
       "  <tbody>\n",
       "    <tr>\n",
       "      <th>0</th>\n",
       "      <th>1</th>\n",
       "      <td>Reggie Miller</td>\n",
       "      <td>97.0</td>\n",
       "    </tr>\n",
       "    <tr>\n",
       "      <th>1</th>\n",
       "      <th>1</th>\n",
       "      <td>Dan Bonner</td>\n",
       "      <td>76.0</td>\n",
       "    </tr>\n",
       "    <tr>\n",
       "      <th>2</th>\n",
       "      <th>1</th>\n",
       "      <td>Steve Smith</td>\n",
       "      <td>84.0</td>\n",
       "    </tr>\n",
       "    <tr>\n",
       "      <th>3</th>\n",
       "      <th>1</th>\n",
       "      <td>Charles Barkey</td>\n",
       "      <td>NaN</td>\n",
       "    </tr>\n",
       "    <tr>\n",
       "      <th>4</th>\n",
       "      <th>1</th>\n",
       "      <td>Kenny Smith</td>\n",
       "      <td>80.0</td>\n",
       "    </tr>\n",
       "  </tbody>\n",
       "</table>\n",
       "</div>"
      ],
      "text/plain": [
       "                   Name  Test \n",
       "id Test                       \n",
       "0  1      Reggie Miller   97.0\n",
       "1  1         Dan Bonner   76.0\n",
       "2  1        Steve Smith   84.0\n",
       "3  1     Charles Barkey    NaN\n",
       "4  1        Kenny Smith   80.0"
      ]
     },
     "execution_count": 39,
     "metadata": {},
     "output_type": "execute_result"
    }
   ],
   "source": [
    "# Let's make the dataset long(tidy)\n",
    "data[\"id\"] = data.index # add index column\n",
    "data = pd.wide_to_long(data, [\"Test \"], i=\"id\", j=\"Test\")\n",
    "data.head()"
   ]
  },
  {
   "cell_type": "code",
   "execution_count": 40,
   "metadata": {},
   "outputs": [
    {
     "data": {
      "text/html": [
       "<div>\n",
       "<style scoped>\n",
       "    .dataframe tbody tr th:only-of-type {\n",
       "        vertical-align: middle;\n",
       "    }\n",
       "\n",
       "    .dataframe tbody tr th {\n",
       "        vertical-align: top;\n",
       "    }\n",
       "\n",
       "    .dataframe thead th {\n",
       "        text-align: right;\n",
       "    }\n",
       "</style>\n",
       "<table border=\"1\" class=\"dataframe\">\n",
       "  <thead>\n",
       "    <tr style=\"text-align: right;\">\n",
       "      <th></th>\n",
       "      <th>Test</th>\n",
       "      <th>Name</th>\n",
       "      <th>Marks</th>\n",
       "    </tr>\n",
       "  </thead>\n",
       "  <tbody>\n",
       "    <tr>\n",
       "      <th>0</th>\n",
       "      <td>1</td>\n",
       "      <td>Reggie Miller</td>\n",
       "      <td>97.0</td>\n",
       "    </tr>\n",
       "    <tr>\n",
       "      <th>1</th>\n",
       "      <td>1</td>\n",
       "      <td>Dan Bonner</td>\n",
       "      <td>76.0</td>\n",
       "    </tr>\n",
       "    <tr>\n",
       "      <th>2</th>\n",
       "      <td>1</td>\n",
       "      <td>Steve Smith</td>\n",
       "      <td>84.0</td>\n",
       "    </tr>\n",
       "    <tr>\n",
       "      <th>3</th>\n",
       "      <td>1</td>\n",
       "      <td>Charles Barkey</td>\n",
       "      <td>NaN</td>\n",
       "    </tr>\n",
       "    <tr>\n",
       "      <th>4</th>\n",
       "      <td>1</td>\n",
       "      <td>Kenny Smith</td>\n",
       "      <td>80.0</td>\n",
       "    </tr>\n",
       "  </tbody>\n",
       "</table>\n",
       "</div>"
      ],
      "text/plain": [
       "   Test            Name  Marks\n",
       "0     1   Reggie Miller   97.0\n",
       "1     1      Dan Bonner   76.0\n",
       "2     1     Steve Smith   84.0\n",
       "3     1  Charles Barkey    NaN\n",
       "4     1     Kenny Smith   80.0"
      ]
     },
     "execution_count": 40,
     "metadata": {},
     "output_type": "execute_result"
    }
   ],
   "source": [
    "# Let's remove indexing\n",
    "data_long = data.copy()\n",
    "data_long = data_long.reset_index()\n",
    "data_long = data_long.drop(['id'], axis=1)\n",
    "\n",
    "# Rename test to marks\n",
    "data_long = data_long.rename(columns={'Test ': 'Marks'})\n",
    "data_long.head()"
   ]
  },
  {
   "cell_type": "markdown",
   "metadata": {},
   "source": [
    "__Third Step:__ Perform Analysis\n",
    "<br>\n",
    "### Highest Average Mark Holder\n",
    "The highest average mark holder is Jim Jackson with average mark of 93.0. \n"
   ]
  },
  {
   "cell_type": "code",
   "execution_count": 44,
   "metadata": {},
   "outputs": [
    {
     "name": "stdout",
     "output_type": "stream",
     "text": [
      "             Name  Average Marks\n",
      "4     Jim Jackson      93.000000\n",
      "6   Reggie Miller      88.750000\n",
      "3      Jalen Rose      83.000000\n",
      "0  Charles Barkey      82.500000\n",
      "7     Steve Smith      81.666667\n",
      "5     Kenny Smith      81.250000\n",
      "1    Chris Webber      79.500000\n",
      "2      Dan Bonner      76.250000\n",
      "\n",
      "Highest average mark holder is Jim Jackson\n"
     ]
    }
   ],
   "source": [
    "# Groupby 'Name' and aggregate records of each group on 'Marks' column with mean aggregate function.\n",
    "data_long_copy = data_long.copy()\n",
    "data_long_copy = data_long_copy.groupby(['Name'], as_index=False).agg({'Marks': 'mean'}).sort_values(by='Marks', ascending=False)\n",
    "\n",
    "# Rename marks to average marks\n",
    "data_long_copy = data_long_copy.rename(columns={'Marks': 'Average Marks'})\n",
    "\n",
    "print(data_long_copy)\n",
    "\n",
    "print(\"\\nHighest average mark holder is \" + data_long_copy['Name'].iloc[0])"
   ]
  },
  {
   "cell_type": "markdown",
   "metadata": {},
   "source": [
    "### Range of Scores per Name\n",
    "Chris Webber and Reggie Miller hold the highest range of score, 17 points. While Jim Jackson holds the lowest range with only 4 points when he is also the highest average mark holder. "
   ]
  },
  {
   "cell_type": "code",
   "execution_count": 45,
   "metadata": {},
   "outputs": [
    {
     "name": "stdout",
     "output_type": "stream",
     "text": [
      "             Name Marks        diff\n",
      "                    max   min      \n",
      "1    Chris Webber  92.0  75.0  17.0\n",
      "6   Reggie Miller  97.0  80.0  17.0\n",
      "0  Charles Barkey  89.0  76.0  13.0\n",
      "2      Dan Bonner  81.0  68.0  13.0\n",
      "7     Steve Smith  86.0  75.0  11.0\n",
      "5     Kenny Smith  85.0  79.0   6.0\n",
      "3      Jalen Rose  85.0  80.0   5.0\n",
      "4     Jim Jackson  95.0  91.0   4.0\n"
     ]
    },
    {
     "data": {
      "image/png": "[encoded data removed]",
      "text/plain": [
       "<Figure size 720x360 with 1 Axes>"
      ]
     },
     "metadata": {
      "needs_background": "light"
     },
     "output_type": "display_data"
    }
   ],
   "source": [
    "# Question 2 : Greatest range of test grades\n",
    "# Groupby 'Name' and aggregate records of each group on 'Marks' column with max, min aggregate function.\n",
    "data_long_copy = data_long.copy()\n",
    "data_long_copy = data_long_copy.groupby(['Name'], as_index=False).agg({'Marks': ['max', 'min']})\n",
    "\n",
    "# Calculate difference between max and min\n",
    "data_long_copy['diff'] = data_long_copy.apply(lambda x: x['Marks']['max']-x['Marks']['min'], axis=1)\n",
    "\n",
    "# Sort the dataset on diff decending order\n",
    "data_long_copy = data_long_copy.sort_values(by='diff', ascending=False)\n",
    "print(data_long_copy)\n",
    "\n",
    "# Bar chart\n",
    "names = list(data_long_copy['Name'])\n",
    "values = list(data_long_copy['diff'])\n",
    "\n",
    "plt.figure(figsize=(10,5))\n",
    "plt.bar(names, values)\n",
    "plt.title('Range of Scores per Name')\n",
    "plt.xticks(names, rotation='vertical')\n",
    "plt.ylabel('Score Range')\n",
    "plt.xlabel('Name')\n",
    "plt.show()"
   ]
  },
  {
   "cell_type": "markdown",
   "metadata": {},
   "source": [
    "### Test Grades\n",
    "Test number 4 has the highest average mark score, while most test averages are similar. "
   ]
  },
  {
   "cell_type": "code",
   "execution_count": 46,
   "metadata": {},
   "outputs": [
    {
     "name": "stdout",
     "output_type": "stream",
     "text": [
      "   Test  Average Marks\n",
      "3     4      86.125000\n",
      "0     1      83.428571\n",
      "2     3      83.333333\n",
      "1     2      80.500000\n"
     ]
    },
    {
     "data": {
      "image/png": "[encoded data removed]",
      "text/plain": [
       "<Figure size 720x360 with 1 Axes>"
      ]
     },
     "metadata": {
      "needs_background": "light"
     },
     "output_type": "display_data"
    },
    {
     "name": "stdout",
     "output_type": "stream",
     "text": [
      "\n",
      "Highest average holds for test 4\n"
     ]
    }
   ],
   "source": [
    "# Groupby 'Test' and aggregate records of each group on 'Marks' column with max, mean aggregate function.\n",
    "data_long_copy = data_long.copy()\n",
    "data_long_copy = data_long_copy.groupby(['Test'], as_index=False).agg({'Marks': 'mean'}).sort_values(by='Marks', ascending=False)\n",
    "data_long_copy = data_long_copy.rename(columns={'Marks': 'Average Marks'})\n",
    "\n",
    "print(data_long_copy)\n",
    "\n",
    "# Bar chart\n",
    "names = [str(i) for i in data_long_copy['Test']]\n",
    "values = list(data_long_copy['Average Marks'])\n",
    "\n",
    "plt.figure(figsize=(10,5))\n",
    "plt.bar(names, values)\n",
    "plt.title('Test Grades')\n",
    "# plt.xticks(names, rotation='vertical')\n",
    "plt.ylabel('Average Marks')\n",
    "plt.xlabel('Test')\n",
    "plt.show()\n",
    "\n",
    "print(\"\\nHighest average holds for test \" + str(data_long_copy['Test'].iloc[0]))"
   ]
  }
 ],
 "metadata": {
  "kernelspec": {
   "display_name": "Python 3",
   "language": "python",
   "name": "python3"
  },
  "language_info": {
   "codemirror_mode": {
    "name": "ipython",
    "version": 3
   },
   "file_extension": ".py",
   "mimetype": "text/x-python",
   "name": "python",
   "nbconvert_exporter": "python",
   "pygments_lexer": "ipython3",
   "version": "3.7.1"
  }
 },
 "nbformat": 4,
 "nbformat_minor": 2
}
