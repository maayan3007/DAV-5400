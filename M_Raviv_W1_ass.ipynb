{
 "cells": [
  {
   "cell_type": "markdown",
   "metadata": {},
   "source": [
    "GitHub link: https://github.com/maayan3007/DAV-5400/blob/master/dataR2.csv\n",
    "Original Link: https://archive.ics.uci.edu/ml/datasets/Breast+Cancer+Coimbra#\n",
    "\n",
    "Since I remember myself I had an interest in the medical field, later on, I found myself serving in Israel Defense Force as a medic, and after graduation, I worked in the medical devices field as a supply chain analyst. \n",
    "Therefore Choosing a data set that would be related to any medical condition is evident to me. My primary interest is to review if many factors are more significant in cancer breast cases. "
   ]
  }
 ],
 "metadata": {
  "kernelspec": {
   "display_name": "Python 3",
   "language": "python",
   "name": "python3"
  },
  "language_info": {
   "codemirror_mode": {
    "name": "ipython",
    "version": 3
   },
   "file_extension": ".py",
   "mimetype": "text/x-python",
   "name": "python",
   "nbconvert_exporter": "python",
   "pygments_lexer": "ipython3",
   "version": "3.7.1"
  }
 },
 "nbformat": 4,
 "nbformat_minor": 2
}
