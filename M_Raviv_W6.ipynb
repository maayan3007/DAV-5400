{
 "cells": [
  {
   "cell_type": "markdown",
   "metadata": {},
   "source": [
    " # Assigment 6\n",
    "\n",
    " __Maayan Raviv__\n",
    " \n",
    " __Source:__ https://www.gia.edu/diamond-quality-factor"
   ]
  },
  {
   "cell_type": "markdown",
   "metadata": {},
   "source": [
    "# Introduction\n",
    "\n",
    "__The data set:__ The dataset contains information on prices of diamonds, as well as various attributes of diamonds, some of which are known to influence their price, provided within the R programming language. \n",
    "<br>\n",
    "<br>\n",
    "__The variabels:__ A data frame with 53940 rows and 10 variables: Cut, clarity and colour are categorical variables and others are continuous variables.\n",
    "* _price_- price in US dollar- $326$ - $18823 $$\n",
    "* _carat_- weight of the diamond (0.2-5.01)\n",
    "* _cut_- quality of the cut (Fair, Good, Very Good, Premium, Ideal)\n",
    "* _color_- diamond colour, from J (worst) to D (best)\n",
    "* _clarity_- a measurement of how clear the diamond is (I1 (worst), SI2, SI1, VS2, VS1, VVS2, VVS1, IF (best))\n",
    "* _x_- length in mm (0-10.74)\n",
    "* _y_- width in mm (0-58.9)\n",
    "* _z_- depth in mm (0-31.8)\n",
    "* _depth_- total depth percentage = z / mean(x, y) = 2 * z / (x + y) (43-79)\n",
    "* _table_- width of top of diamond relative to widest point (43-95)\n",
    "<br>\n",
    "\n",
    "Cut, colour and clarity are ordinal variables with 5, 7 and 8 unique values respectively. The cut is the quality of the cut described as Fair, Good, Very Good, Premium, Ideal; Cut grade is is an objective measure of a diamond’s light performance, or, what we generally think of as sparkle. Colour describes the diamond colour from J(worst) to D(best). Clarity is the measurement of how clear the diamond is (I1 (worst), SI1, SI2, VS1, VS2, VVS1, VVS2, IF (best)).Carat is a unit of mass equal to 200 mg and is used for measuring gemstones and pearls. \n",
    "<br>\n",
    "\n",
    "__Objective:__ This data set can help to create a model that will detrmine pricing of diamonds. We will review in this analysis what are the factors that affect the price such as carat weight, cut, clarity and colour. \n",
    "\n",
    "__The Questions that will be reviwed in this explantory are:__\n",
    "* What proportion of diamonds are between .30 and 1.08 carats?\n",
    "* How many of the diamonds have equal x and y dimensions?\n",
    "* How many of the diamonds have a carat less than the mean carat value?\n",
    "* How many diamonds have a Premium cut or better? while the possible values for the quality of a cut are\n",
    "ranked in ascending order as follows: Fair / Good / Very Good / Premium / Ideal\n",
    "* Which diamond has the highest price per carat? What is its value?\n",
    "* Make a bar plot of the ‘cut’ data. What does it tell us about the frequencies of the individual cut values within\n",
    "the data set?\n",
    "* Make boxplots of the diamond price for each cut and discuss any conclusions you can draw from the appearance\n",
    "of the boxplots.\n",
    "* Make histograms of the length, width, depth, and total depth attributes and discuss any conclusions you can\n",
    "draw from the shape of the resulting distributions.\n",
    "* Make a scatter plot of price vs. carat. What can we say about the relationship between those two attributes?"
   ]
  },
  {
   "cell_type": "code",
   "execution_count": 3,
   "metadata": {},
   "outputs": [
    {
     "data": {
      "text/html": [
       "<div>\n",
       "<style scoped>\n",
       "    .dataframe tbody tr th:only-of-type {\n",
       "        vertical-align: middle;\n",
       "    }\n",
       "\n",
       "    .dataframe tbody tr th {\n",
       "        vertical-align: top;\n",
       "    }\n",
       "\n",
       "    .dataframe thead th {\n",
       "        text-align: right;\n",
       "    }\n",
       "</style>\n",
       "<table border=\"1\" class=\"dataframe\">\n",
       "  <thead>\n",
       "    <tr style=\"text-align: right;\">\n",
       "      <th></th>\n",
       "      <th>carat</th>\n",
       "      <th>cut</th>\n",
       "      <th>color</th>\n",
       "      <th>clarity</th>\n",
       "      <th>depth</th>\n",
       "      <th>table</th>\n",
       "      <th>price</th>\n",
       "      <th>x</th>\n",
       "      <th>y</th>\n",
       "      <th>z</th>\n",
       "    </tr>\n",
       "  </thead>\n",
       "  <tbody>\n",
       "    <tr>\n",
       "      <th>0</th>\n",
       "      <td>0.23</td>\n",
       "      <td>Ideal</td>\n",
       "      <td>E</td>\n",
       "      <td>SI2</td>\n",
       "      <td>61.5</td>\n",
       "      <td>55.0</td>\n",
       "      <td>326</td>\n",
       "      <td>3.95</td>\n",
       "      <td>3.98</td>\n",
       "      <td>2.43</td>\n",
       "    </tr>\n",
       "    <tr>\n",
       "      <th>1</th>\n",
       "      <td>0.21</td>\n",
       "      <td>Premium</td>\n",
       "      <td>E</td>\n",
       "      <td>SI1</td>\n",
       "      <td>59.8</td>\n",
       "      <td>61.0</td>\n",
       "      <td>326</td>\n",
       "      <td>3.89</td>\n",
       "      <td>3.84</td>\n",
       "      <td>2.31</td>\n",
       "    </tr>\n",
       "    <tr>\n",
       "      <th>2</th>\n",
       "      <td>0.23</td>\n",
       "      <td>Good</td>\n",
       "      <td>E</td>\n",
       "      <td>VS1</td>\n",
       "      <td>56.9</td>\n",
       "      <td>65.0</td>\n",
       "      <td>327</td>\n",
       "      <td>4.05</td>\n",
       "      <td>4.07</td>\n",
       "      <td>2.31</td>\n",
       "    </tr>\n",
       "    <tr>\n",
       "      <th>3</th>\n",
       "      <td>0.29</td>\n",
       "      <td>Premium</td>\n",
       "      <td>I</td>\n",
       "      <td>VS2</td>\n",
       "      <td>62.4</td>\n",
       "      <td>58.0</td>\n",
       "      <td>334</td>\n",
       "      <td>4.20</td>\n",
       "      <td>4.23</td>\n",
       "      <td>2.63</td>\n",
       "    </tr>\n",
       "    <tr>\n",
       "      <th>4</th>\n",
       "      <td>0.31</td>\n",
       "      <td>Good</td>\n",
       "      <td>J</td>\n",
       "      <td>SI2</td>\n",
       "      <td>63.3</td>\n",
       "      <td>58.0</td>\n",
       "      <td>335</td>\n",
       "      <td>4.34</td>\n",
       "      <td>4.35</td>\n",
       "      <td>2.75</td>\n",
       "    </tr>\n",
       "  </tbody>\n",
       "</table>\n",
       "</div>"
      ],
      "text/plain": [
       "   carat      cut color clarity  depth  table  price     x     y     z\n",
       "0   0.23    Ideal     E     SI2   61.5   55.0    326  3.95  3.98  2.43\n",
       "1   0.21  Premium     E     SI1   59.8   61.0    326  3.89  3.84  2.31\n",
       "2   0.23     Good     E     VS1   56.9   65.0    327  4.05  4.07  2.31\n",
       "3   0.29  Premium     I     VS2   62.4   58.0    334  4.20  4.23  2.63\n",
       "4   0.31     Good     J     SI2   63.3   58.0    335  4.34  4.35  2.75"
      ]
     },
     "execution_count": 3,
     "metadata": {},
     "output_type": "execute_result"
    }
   ],
   "source": [
    "import pandas as pd\n",
    "import matplotlib.pyplot as plt \n",
    "import numpy as np\n",
    "\n",
    "# Load csv file\n",
    "dataset = pd.read_csv('https://raw.githubusercontent.com/maayan3007/DAV-5400/master/diamonds.csv')\n",
    "dataset.head()"
   ]
  },
  {
   "cell_type": "markdown",
   "metadata": {},
   "source": [
    "__Diamonds Evalution:__\n",
    "One of the first things most people learn about diamonds is that not all diamonds are created equal. In fact, every diamond is unique. Diamonds come in many sizes, shapes, colors, and with various internal characteristics.All polished diamonds are valuable. That value is based on a combination of factors. Rarity is one of those factors. Diamonds with certain qualities are more rare—and more valuable—than diamonds that lack them. These are known as the 4Cs. When used together, they describe the quality of a finished diamond. The value of a finished diamond is based on this combination.\n",
    "<br>\n",
    "A diamond’s value is often affected by the rarity of one or more of the 4Cs. Colorless diamonds are scarce—most diamonds have tints of yellow or brown. So a colorless diamond rates higher on the color grading scale than a diamond that is light yellow. Value and rarity are related: In this case a colorless diamond is more rare and more valuable than one with a slight yellow color. The same relationship between rarity and value exists for clarity, cut, and carat weight.\n",
    "\n",
    "__Data set initial explantory:__\n",
    "Carat values are ranging from 0.2 to 5.01 with a mean of 0.797. Depth's values ranging from 43.0 to 79.0 with a mean of 61.74. The table values ranging from to 43.0 to 95.0 with a mean of 57.45. Price is in US dollars with value range from $326 – $ 18,823 with a mean of $ 3932.79.x is the length in mm with value range from 0 to 10.74 with a mean of 5.73. y is the width in mm with values range from 0 to 58.9 with a mean of 5.73. z is the depth in mm with 375 value range from 0 to 31.8 with a mean of 3.53. The summary of data shows that there are some values of x(length), y(width) and z(depth) which are 0."
   ]
  },
  {
   "cell_type": "code",
   "execution_count": 7,
   "metadata": {},
   "outputs": [
    {
     "name": "stdout",
     "output_type": "stream",
     "text": [
      "              carat         depth         table         price             x  \\\n",
      "count  53940.000000  53940.000000  53940.000000  53940.000000  53940.000000   \n",
      "mean       0.797940     61.749405     57.457184   3932.799722      5.731157   \n",
      "std        0.474011      1.432621      2.234491   3989.439738      1.121761   \n",
      "min        0.200000     43.000000     43.000000    326.000000      0.000000   \n",
      "25%        0.400000     61.000000     56.000000    950.000000      4.710000   \n",
      "50%        0.700000     61.800000     57.000000   2401.000000      5.700000   \n",
      "75%        1.040000     62.500000     59.000000   5324.250000      6.540000   \n",
      "max        5.010000     79.000000     95.000000  18823.000000     10.740000   \n",
      "\n",
      "                  y             z  \n",
      "count  53940.000000  53940.000000  \n",
      "mean       5.734526      3.538734  \n",
      "std        1.142135      0.705699  \n",
      "min        0.000000      0.000000  \n",
      "25%        4.720000      2.910000  \n",
      "50%        5.710000      3.530000  \n",
      "75%        6.540000      4.040000  \n",
      "max       58.900000     31.800000  \n"
     ]
    }
   ],
   "source": [
    "dataset_copy = dataset.copy()\n",
    "print(dataset_copy.describe())"
   ]
  },
  {
   "cell_type": "markdown",
   "metadata": {},
   "source": [
    "# Question 1\n",
    "__What proportion of diamonds are between .30 and 1.08 carats?__\n",
    "<br>\n",
    "It's known that the larger diamond is probably more valuable than a smaller one. But since that large diamonds are more rare than small diamonds. The more scarce something is, the more it is worth. So a larger stone doesn’t just cost more. It also costs more per carat. A 1-carat diamond weighs the same as four 0.25-carat diamonds. But even if all the other quality factors are equal, the larger diamond is worth much more than the sum of the four smaller diamonds.\n",
    "\n",
    "<br>\n",
    "The viz clearly show that the biggest group are diamonds between .30 and 1.08 carat, which consider to be the average diamond. the smallest group is the one the is less then .30, which can be explained by the fact that those diamonds consider to be really small and people are not tend to be intersted in them. Then the next group is for the diamonds that weight more then 1.08, those diamonds comsider to be big diamonds and are more rare and expensive. "
   ]
  },
  {
   "cell_type": "code",
   "execution_count": 11,
   "metadata": {},
   "outputs": [
    {
     "data": {
      "text/html": [
       "<div>\n",
       "<style scoped>\n",
       "    .dataframe tbody tr th:only-of-type {\n",
       "        vertical-align: middle;\n",
       "    }\n",
       "\n",
       "    .dataframe tbody tr th {\n",
       "        vertical-align: top;\n",
       "    }\n",
       "\n",
       "    .dataframe thead th {\n",
       "        text-align: right;\n",
       "    }\n",
       "</style>\n",
       "<table border=\"1\" class=\"dataframe\">\n",
       "  <thead>\n",
       "    <tr style=\"text-align: right;\">\n",
       "      <th></th>\n",
       "      <th>carat_range</th>\n",
       "      <th>count</th>\n",
       "      <th>%</th>\n",
       "    </tr>\n",
       "  </thead>\n",
       "  <tbody>\n",
       "    <tr>\n",
       "      <th>0</th>\n",
       "      <td>less than 0.3</td>\n",
       "      <td>1599</td>\n",
       "      <td>2.964405</td>\n",
       "    </tr>\n",
       "    <tr>\n",
       "      <th>1</th>\n",
       "      <td>between 0.3 &amp; 1.08</td>\n",
       "      <td>40284</td>\n",
       "      <td>74.682981</td>\n",
       "    </tr>\n",
       "    <tr>\n",
       "      <th>2</th>\n",
       "      <td>greater than 1.08</td>\n",
       "      <td>12057</td>\n",
       "      <td>22.352614</td>\n",
       "    </tr>\n",
       "  </tbody>\n",
       "</table>\n",
       "</div>"
      ],
      "text/plain": [
       "          carat_range  count          %\n",
       "0       less than 0.3   1599   2.964405\n",
       "1  between 0.3 & 1.08  40284  74.682981\n",
       "2   greater than 1.08  12057  22.352614"
      ]
     },
     "execution_count": 11,
     "metadata": {},
     "output_type": "execute_result"
    }
   ],
   "source": [
    "def carat_cat_divider(carat): # Carat range categorizing function\n",
    "    carat = float(carat)\n",
    "    if carat<0.3:\n",
    "        return 'A' # A <0.3\n",
    "    elif (carat>=0.3) and (carat<=1.08):\n",
    "        return 'B' # B 0.3<= <=1.08\n",
    "    else:\n",
    "        return 'C' # >1.08\n",
    "    \n",
    "dataset_copy = dataset[['carat']].copy() # Take a copy of original dataset\n",
    "dataset_copy['carat_range'] = dataset_copy['carat'].apply(carat_cat_divider) # Add new column for indicate the range of carat\n",
    "\n",
    "dataset_copy = dataset_copy.groupby(['carat_range'], as_index=False).count()\n",
    "dataset_copy = dataset_copy.rename(index=str, columns={\"carat\":\"count\"})\n",
    "total = dataset_copy['count'].sum() # Get the total of count column\n",
    "\n",
    "dataset_copy['%'] = dataset_copy['count'].apply(lambda x: (x*100/total)) # add % column by processing count column\n",
    "\n",
    "replace_dic = {\"A\": 'less than 0.3', \"B\": 'between 0.3 & 1.08', \"C\": 'greater than 1.08'}\n",
    "dataset_copy = dataset_copy.replace({\"carat_range\": replace_dic}) # Replace carat_range column with above replacements\n",
    "\n",
    "dataset_copy\n",
    "\n"
   ]
  },
  {
   "cell_type": "code",
   "execution_count": 12,
   "metadata": {},
   "outputs": [
    {
     "data": {
      "image/png": "[encoded data removed]",
      "text/plain": [
       "<Figure size 432x288 with 1 Axes>"
      ]
     },
     "metadata": {
      "needs_background": "light"
     },
     "output_type": "display_data"
    }
   ],
   "source": [
    "# Let's draw bar chart\n",
    "data = np.array(list(dataset_copy['%']))\n",
    "data = pd.DataFrame(data)\n",
    "axes = data.plot.bar(title='Carat Weight Proportion')\n",
    "axes.get_legend().remove()\n",
    "axes.set(xlabel=\"Range\", ylabel=\"Percentage\")\n",
    "axes.set_xticklabels(dataset_copy['carat_range'], rotation='horizontal')\n",
    "plt.show()"
   ]
  },
  {
   "cell_type": "markdown",
   "metadata": {},
   "source": [
    "# Question 2\n",
    "__How many of the diamonds have equal x and y dimensions?__\n",
    "In order to review this question we will create a column that will compare the X and Y value and will detrmine if they are equal or not. \n",
    "Its length and width measurements indicate the actual physical size, or how big the diamond will appear when viewed from above. Diamonds of the same carat weight can vary in size."
   ]
  },
  {
   "cell_type": "code",
   "execution_count": 15,
   "metadata": {},
   "outputs": [
    {
     "name": "stdout",
     "output_type": "stream",
     "text": [
      "      x     y XY_equality\n",
      "0  3.95  3.98   not equal\n",
      "1  3.89  3.84   not equal\n",
      "2  4.05  4.07   not equal\n",
      "3  4.20  4.23   not equal\n",
      "4  4.34  4.35   not equal\n"
     ]
    }
   ],
   "source": [
    "threshold = 0.0 #  adjust equality threshold using the associated variable\n",
    "def filter_similar_xy(record):\n",
    "    x = float(record['x'])\n",
    "    y = float(record['y'])\n",
    "    if abs(x-y)<=threshold: \n",
    "        return 'equal' \n",
    "    else:\n",
    "        return 'not equal'\n",
    "\n",
    "dataset_copy = dataset[['x', 'y']].copy() # Take a copy of original dataset\n",
    "dataset_copy['XY_equality'] = dataset_copy.apply(filter_similar_xy, axis=1) \n",
    "print(dataset_copy.head())\n",
    "\n"
   ]
  },
  {
   "cell_type": "markdown",
   "metadata": {},
   "source": [
    "We found that there areonly 17 diamonds that are equal both in length and weight (Y and X)"
   ]
  },
  {
   "cell_type": "code",
   "execution_count": 16,
   "metadata": {},
   "outputs": [
    {
     "name": "stdout",
     "output_type": "stream",
     "text": [
      "  XY_equality  count\n",
      "0       equal     17\n",
      "1   not equal  53923\n"
     ]
    }
   ],
   "source": [
    "dataset_copy = dataset_copy.groupby(['XY_equality'], as_index=False).count()\n",
    "dataset_copy = dataset_copy.rename(index=str, columns={\"x\":\"count\"})[['XY_equality', 'count']]\n",
    "print(dataset_copy)\n"
   ]
  },
  {
   "cell_type": "markdown",
   "metadata": {},
   "source": [
    "# Question 3\n",
    "__How many of the diamonds have a carat less than the mean carat value?__\n",
    "The mean is 0.7979, which is not consider to be a high carat. \n",
    "<br>\n",
    "There are 22813 diamonds with a carat that is bigger than the mean. "
   ]
  },
  {
   "cell_type": "code",
   "execution_count": 17,
   "metadata": {},
   "outputs": [
    {
     "name": "stdout",
     "output_type": "stream",
     "text": [
      "Mean value: 0.7979397478679852\n"
     ]
    },
    {
     "data": {
      "text/html": [
       "<div>\n",
       "<style scoped>\n",
       "    .dataframe tbody tr th:only-of-type {\n",
       "        vertical-align: middle;\n",
       "    }\n",
       "\n",
       "    .dataframe tbody tr th {\n",
       "        vertical-align: top;\n",
       "    }\n",
       "\n",
       "    .dataframe thead th {\n",
       "        text-align: right;\n",
       "    }\n",
       "</style>\n",
       "<table border=\"1\" class=\"dataframe\">\n",
       "  <thead>\n",
       "    <tr style=\"text-align: right;\">\n",
       "      <th></th>\n",
       "      <th>portion</th>\n",
       "      <th>count</th>\n",
       "    </tr>\n",
       "  </thead>\n",
       "  <tbody>\n",
       "    <tr>\n",
       "      <th>0</th>\n",
       "      <td>Above Mean</td>\n",
       "      <td>22813</td>\n",
       "    </tr>\n",
       "    <tr>\n",
       "      <th>1</th>\n",
       "      <td>Below Mean</td>\n",
       "      <td>31127</td>\n",
       "    </tr>\n",
       "    <tr>\n",
       "      <th>2</th>\n",
       "      <td>equal</td>\n",
       "      <td>0</td>\n",
       "    </tr>\n",
       "  </tbody>\n",
       "</table>\n",
       "</div>"
      ],
      "text/plain": [
       "      portion  count\n",
       "0  Above Mean  22813\n",
       "1  Below Mean  31127\n",
       "2       equal      0"
      ]
     },
     "execution_count": 17,
     "metadata": {},
     "output_type": "execute_result"
    }
   ],
   "source": [
    "data_carat = dataset[['carat']].copy()\n",
    "mean_val = float(data_carat.mean())\n",
    "\n",
    "print(\"Mean value:\", mean_val)\n",
    "\n",
    "def mean_above_below_filter(carat):\n",
    "    carat = float(carat)\n",
    "    if carat<mean_val:\n",
    "        return 'Below Mean'\n",
    "    elif carat==mean_val:\n",
    "        return 'Equal to Mean'\n",
    "    else:\n",
    "        return 'Above Mean'\n",
    "\n",
    "data_carat['portion'] = data_carat['carat'].apply(mean_above_below_filter)\n",
    "data_carat = data_carat.groupby(['portion'], as_index=False).count()\n",
    "data_carat = data_carat.rename(index=str, columns={\"carat\":\"count\"})\n",
    "\n",
    "if len(data_carat)!=3: # if the equal record missing, let's add\n",
    "    data_carat = data_carat.append({'count': 0, 'portion': 'equal'}, ignore_index=True)\n",
    "    \n",
    "data_carat"
   ]
  },
  {
   "cell_type": "markdown",
   "metadata": {},
   "source": [
    "# Question 4\n",
    "__How many diamonds have a Premium cut or better? Note that the possible values for the quality of a cut are\n",
    "ranked in ascending order as follows: Fair / Good / Very Good / Premium / Ideal__\n",
    "\n",
    "A beautifully finished diamond is dazzling, with every facet displaying the craftsman’s skill and care. When a diamond interacts with light, every angle and every facet affects the amount of light returned to the eye. This is what gives it its face-up appearance.\n",
    "<br>\n",
    "A diamond’s proportions determine how light performs when it enters the diamond. If light enters through the crown and goes out through the pavilion, the diamond will look dark and unattractive. Diamonds with different proportions and good polish make better use of the light, and will be bright, colorful, and scintillating. The diamond industry has long known that some proportion combinations make light perform better than others. As a general rule, the higher the cut grade, the brighter the diamond.\n",
    "\n",
    "<br>\n",
    "\n",
    "There are 35342 diamonds with cut rate premium and ideal which consider to be the best cut level. \n",
    "There are more diamonds with ideal cut then premium cut. "
   ]
  },
  {
   "cell_type": "code",
   "execution_count": 26,
   "metadata": {},
   "outputs": [
    {
     "name": "stdout",
     "output_type": "stream",
     "text": [
      "Number of diamonds with premium and ideal level: 35342\n",
      "\n",
      "\n",
      "         cut  count\n",
      "0       Fair   1610\n",
      "1       Good   4906\n",
      "2      Ideal  21551\n",
      "3    Premium  13791\n",
      "4  Very Good  12082\n",
      "\n",
      "\n",
      "               cut  count\n",
      "0             Fair   1610\n",
      "1             Good   4906\n",
      "4        Very Good  12082\n",
      "0  Premium & Ideal  35342\n"
     ]
    },
    {
     "data": {
      "image/png": "[encoded data removed]",
      "text/plain": [
       "<Figure size 432x288 with 1 Axes>"
      ]
     },
     "metadata": {
      "needs_background": "light"
     },
     "output_type": "display_data"
    }
   ],
   "source": [
    "data_cut = dataset[['cut', 'carat']].copy()\n",
    "data_cut = data_cut.groupby(['cut'], as_index=False).count()\n",
    "data_cut = data_cut.rename(index=str, columns={\"carat\":\"count\"})\n",
    "\n",
    "prem_ideal_count = int(data_cut[data_cut['cut']=='Premium']['count']) + int(data_cut[data_cut['cut']=='Ideal']['count'])\n",
    "print(\"Number of diamonds with premium and ideal level:\", prem_ideal_count)\n",
    "\n",
    "print('\\n')\n",
    "\n",
    "\n",
    "\n",
    "print(data_cut) \n",
    "\n",
    "print('\\n')\n",
    "\n",
    "# adding premium + Ideal record to data_cut dataframe\n",
    "data = pd.DataFrame([['Premium & Ideal', prem_ideal_count]], columns=['cut', 'count'])\n",
    "data_cut = data_cut.append(data) \n",
    "\n",
    "# dropping Premium and Ideal rows\n",
    "data_cut = data_cut.drop(index=['2', '3'])\n",
    "print(data_cut)\n",
    "\n",
    "\n",
    "# Let's develop the chart \n",
    "ax = data_cut.plot.barh(title='Cut level per Diamond')\n",
    "ax.get_legend().remove()\n",
    "ax.set(xlabel=\"Number of diamonds\", ylabel=\"Cut Type\")\n",
    "ax.set_yticklabels(data_cut['cut'])\n",
    "plt.show()"
   ]
  },
  {
   "cell_type": "markdown",
   "metadata": {},
   "source": [
    "# Question 5\n",
    "__Which diamond has the highest price per carat? What is its value?__\n",
    "Carat weight is effected directly on price in addition to other factoes as were discuused above.\n",
    "The mose expendive diamond 18823 USD that weight 2.29 with Premium cut.\n",
    "I was surprised to see that that the second most exepensive is a diamond with a very good cut which might suggestive that the carat weight has more effect on the price rather then the cut. Only the third diamond has Ideal cut. "
   ]
  },
  {
   "cell_type": "code",
   "execution_count": 29,
   "metadata": {},
   "outputs": [
    {
     "name": "stdout",
     "output_type": "stream",
     "text": [
      "Highest priced diamond: Diamond No. 27749 | Price: 18823 USD\n",
      "\n",
      "\n",
      "       carat        cut color clarity  depth  table  price     x     y     z\n",
      "27749   2.29    Premium     I     VS2   60.8   60.0  18823  8.50  8.47  5.16\n",
      "27748   2.00  Very Good     G     SI1   63.5   56.0  18818  7.90  7.97  5.04\n",
      "27747   1.51      Ideal     G      IF   61.7   55.0  18806  7.37  7.41  4.56\n",
      "27746   2.07      Ideal     G     SI2   62.5   55.0  18804  8.20  8.13  5.11\n",
      "27745   2.00  Very Good     H     SI1   62.8   57.0  18803  7.95  8.00  5.01\n",
      "27744   2.29    Premium     I     SI1   61.8   59.0  18797  8.52  8.45  5.24\n",
      "27742   2.04    Premium     H     SI1   58.1   60.0  18795  8.37  8.28  4.84\n",
      "27743   2.00    Premium     I     VS1   60.8   59.0  18795  8.13  8.02  4.91\n",
      "27740   1.71    Premium     F     VS2   62.3   59.0  18791  7.57  7.53  4.70\n",
      "27741   2.15      Ideal     G     SI2   62.6   54.0  18791  8.29  8.35  5.21\n",
      "\n",
      "\n",
      "count       10.000000\n",
      "mean     18802.300000\n",
      "std         10.965096\n",
      "min      18791.000000\n",
      "25%      18795.000000\n",
      "50%      18800.000000\n",
      "75%      18805.500000\n",
      "max      18823.000000\n",
      "Name: price, dtype: float64\n",
      "\n",
      "\n"
     ]
    },
    {
     "data": {
      "image/png": "[encoded data removed]",
      "text/plain": [
       "<Figure size 432x288 with 1 Axes>"
      ]
     },
     "metadata": {
      "needs_background": "light"
     },
     "output_type": "display_data"
    }
   ],
   "source": [
    "dataset_copy = dataset.copy()\n",
    "dataset_copy = dataset_copy.sort_values(by=['price'], ascending=False) # Sort the entire dataset on 'price'\n",
    "\n",
    "print(\"Highest priced diamond: Diamond No.\", dataset_copy.head().index[0], '| Price:', dataset_copy.iloc[0]['price'], 'USD')\n",
    "print('\\n')\n",
    "print(dataset_copy[:10])\n",
    "print('\\n')\n",
    "print(dataset_copy[:10]['price'].describe())\n",
    "print('\\n')\n",
    "# Let's draw bar chart \n",
    "dataset_copy = dataset_copy[:10] # Take only top 10 records\n",
    "data = np.array(list(dataset_copy['price']))\n",
    "data = pd.DataFrame(data)\n",
    "axes = data.plot.barh(title='Top 10 most expensive diamonds per carat')\n",
    "axes.get_legend().remove()\n",
    "axes.set(ylabel=\"Diamond ID\", xlabel='Price')\n",
    "axes.set_xbound(lower=18700, upper=18840)\n",
    "\n",
    "# Create x ticks by combining index and carat columns\n",
    "tuple_of_index_carat = list(zip(dataset_copy.index, dataset_copy['carat']))\n",
    "yticks = [str(x) + ' - Carat: ' + str(y) for x, y in tuple_of_index_carat]  # format x ticks to show index-carat-value\n",
    "\n",
    "axes.set_yticklabels(yticks)\n",
    "plt.show()"
   ]
  },
  {
   "cell_type": "markdown",
   "metadata": {},
   "source": [
    "# Question 6\n",
    "_Make a bar plot of the ‘cut’ data. What does it tell us about the frequencies of the individual cut values within\n",
    "the data set?__\n",
    "\n",
    "The most common cut in the data set is Ideal cut which consider to be the best Cut level. People who tend to but diamonds will usually prefer to have good quality of diamonds so those diamonds would be more popular. "
   ]
  },
  {
   "cell_type": "code",
   "execution_count": 32,
   "metadata": {},
   "outputs": [
    {
     "data": {
      "text/html": [
       "<div>\n",
       "<style scoped>\n",
       "    .dataframe tbody tr th:only-of-type {\n",
       "        vertical-align: middle;\n",
       "    }\n",
       "\n",
       "    .dataframe tbody tr th {\n",
       "        vertical-align: top;\n",
       "    }\n",
       "\n",
       "    .dataframe thead th {\n",
       "        text-align: right;\n",
       "    }\n",
       "</style>\n",
       "<table border=\"1\" class=\"dataframe\">\n",
       "  <thead>\n",
       "    <tr style=\"text-align: right;\">\n",
       "      <th></th>\n",
       "      <th>cut</th>\n",
       "      <th>count</th>\n",
       "    </tr>\n",
       "  </thead>\n",
       "  <tbody>\n",
       "    <tr>\n",
       "      <th>2</th>\n",
       "      <td>Ideal</td>\n",
       "      <td>21551</td>\n",
       "    </tr>\n",
       "    <tr>\n",
       "      <th>3</th>\n",
       "      <td>Premium</td>\n",
       "      <td>13791</td>\n",
       "    </tr>\n",
       "    <tr>\n",
       "      <th>4</th>\n",
       "      <td>Very Good</td>\n",
       "      <td>12082</td>\n",
       "    </tr>\n",
       "    <tr>\n",
       "      <th>1</th>\n",
       "      <td>Good</td>\n",
       "      <td>4906</td>\n",
       "    </tr>\n",
       "    <tr>\n",
       "      <th>0</th>\n",
       "      <td>Fair</td>\n",
       "      <td>1610</td>\n",
       "    </tr>\n",
       "  </tbody>\n",
       "</table>\n",
       "</div>"
      ],
      "text/plain": [
       "         cut  count\n",
       "2      Ideal  21551\n",
       "3    Premium  13791\n",
       "4  Very Good  12082\n",
       "1       Good   4906\n",
       "0       Fair   1610"
      ]
     },
     "execution_count": 32,
     "metadata": {},
     "output_type": "execute_result"
    }
   ],
   "source": [
    "dataset_copy = dataset[['cut', 'carat']].copy()\n",
    "dataset_copy = dataset_copy.groupby(['cut'], as_index=False).count()\n",
    "dataset_copy = dataset_copy.rename(index=str, columns={\"carat\":\"count\"})\n",
    "\n",
    "# Let's add another column to indicate the quality of cut as a number\n",
    "replace_dic = {\"Fair\": 0, \"Good\": 1, \"Very Good\": 2, 'Premium': 3, 'Ideal': 4}\n",
    "dataset_copy['cut_quality'] = dataset_copy[\"cut\"].replace(replace_dic)\n",
    "\n",
    "dataset_copy = dataset_copy.sort_values(by=['cut_quality'], ascending=False) # Sort using cut_quality\n",
    "\n",
    "dataset_copy[['cut', 'count']]"
   ]
  },
  {
   "cell_type": "code",
   "execution_count": 34,
   "metadata": {},
   "outputs": [
    {
     "data": {
      "image/png": "[encoded data removed]",
      "text/plain": [
       "<Figure size 432x288 with 1 Axes>"
      ]
     },
     "metadata": {
      "needs_background": "light"
     },
     "output_type": "display_data"
    }
   ],
   "source": [
    "# Let's draw bar chart\n",
    "data = np.array(list(dataset_copy['count']))\n",
    "data = pd.DataFrame(data)\n",
    "axes = data.plot.bar(title='Cut Level Distribution')\n",
    "axes.get_legend().remove()\n",
    "axes.set(xlabel=\"Cut type\", ylabel=\"Number of Diamonds\")\n",
    "axes.set_xticklabels(dataset_copy['cut'], rotation='horizontal')\n",
    "plt.show()"
   ]
  },
  {
   "cell_type": "markdown",
   "metadata": {},
   "source": [
    "# Question 7\n",
    "__Make boxplots of the diamond price for each cut and discuss any conclusions you can draw from the appearance\n",
    "of the boxplots__\n",
    "<br>\n",
    "The Fair box is comparatively short which means that most values are in this category are similiar. From the other hand Premium cut box plot is comparatively tall, this suggests diamonds hoave different values in this cut level. \n",
    "One box plot, the fair box plots, is much higher ideal box plots This could suggest a difference between groups. \n",
    "In addition, by looking at the different box plot it's clearly seen that the ideal cut has a lot of variation in the price, it has a lower median price than any other cut. Premium, good, very good and fair have almost similar kind of median price. Same for the minimum, first quartile, third quartile and the max. "
   ]
  },
  {
   "cell_type": "code",
   "execution_count": 36,
   "metadata": {},
   "outputs": [
    {
     "data": {
      "image/png": "[encoded data removed]",
      "text/plain": [
       "<Figure size 1080x432 with 1 Axes>"
      ]
     },
     "metadata": {
      "needs_background": "light"
     },
     "output_type": "display_data"
    },
    {
     "name": "stdout",
     "output_type": "stream",
     "text": [
      "             price                                                             \\\n",
      "             count         mean          std    min      25%     50%      75%   \n",
      "cut                                                                             \n",
      "Fair        1610.0  4358.757764  3560.386612  337.0  2050.25  3282.0  5205.50   \n",
      "Good        4906.0  3928.864452  3681.589584  327.0  1145.00  3050.5  5028.00   \n",
      "Ideal      21551.0  3457.541970  3808.401172  326.0   878.00  1810.0  4678.50   \n",
      "Premium    13791.0  4584.257704  4349.204961  326.0  1046.00  3185.0  6296.00   \n",
      "Very Good  12082.0  3981.759891  3935.862161  336.0   912.00  2648.0  5372.75   \n",
      "\n",
      "                    \n",
      "               max  \n",
      "cut                 \n",
      "Fair       18574.0  \n",
      "Good       18788.0  \n",
      "Ideal      18806.0  \n",
      "Premium    18823.0  \n",
      "Very Good  18818.0  \n"
     ]
    }
   ],
   "source": [
    "dataset_copy = dataset[['cut', 'price']].copy()\n",
    "dataset_copy = dataset_copy.groupby(['cut'])\n",
    "\n",
    "dataset_copy.boxplot(subplots=False, figsize=(15, 6))\n",
    "plt.show()\n",
    "\n",
    "print(dataset_copy.describe())"
   ]
  },
  {
   "cell_type": "markdown",
   "metadata": {},
   "source": [
    "# Question 8\n",
    "__Make histograms of the length, width, depth, and total depth attributes and discuss any conclusions you can\n",
    "draw from the shape of the resulting distributions__\n",
    "\n",
    "\n",
    "The bellow histograms shows the diemnsions of the diamonds.Each attribute effect differntly on the level of cut and it's not fix proportionthat detrmine the level of cut. In order to detrmine that the jewler need to review the proportion between all dimensions where one effect another. It's hard do detrmine any conclusions from this histograms. \n"
   ]
  },
  {
   "cell_type": "code",
   "execution_count": 37,
   "metadata": {},
   "outputs": [
    {
     "data": {
      "image/png": "[encoded data removed]",
      "text/plain": [
       "<Figure size 1080x576 with 4 Axes>"
      ]
     },
     "metadata": {
      "needs_background": "light"
     },
     "output_type": "display_data"
    },
    {
     "name": "stdout",
     "output_type": "stream",
     "text": [
      "                  x             y             z         depth\n",
      "count  53940.000000  53940.000000  53940.000000  53940.000000\n",
      "mean       5.731157      5.734526      3.538734     61.749405\n",
      "std        1.121761      1.142135      0.705699      1.432621\n",
      "min        0.000000      0.000000      0.000000     43.000000\n",
      "25%        4.710000      4.720000      2.910000     61.000000\n",
      "50%        5.700000      5.710000      3.530000     61.800000\n",
      "75%        6.540000      6.540000      4.040000     62.500000\n",
      "max       10.740000     58.900000     31.800000     79.000000\n"
     ]
    }
   ],
   "source": [
    "dataset_copy = dataset[['x', 'y', 'z', 'depth']].copy()\n",
    "\n",
    "dataset_copy.hist(bins=30, figsize=(15, 8))\n",
    "plt.show()\n",
    "\n",
    "print(dataset_copy.describe())"
   ]
  },
  {
   "cell_type": "markdown",
   "metadata": {},
   "source": [
    "# Question 9\n",
    "__Make a scatter plot of price vs. carat. What can we say about the relationship between those two attributes?__\n",
    "<br>\n",
    "This scatter plot shows that most of the data points are between 0-2.5 carats.Plot also shows that the higher carat the higher price there is a medium positive linear correlation. However in some of the diamonds there might be other factors that effect the price since there are some cases where the data is not linear as in 3 carat where the price is relatively low or in carat 1 where the price is relatively high. "
   ]
  },
  {
   "cell_type": "code",
   "execution_count": 40,
   "metadata": {},
   "outputs": [
    {
     "data": {
      "image/png": "[encoded data removed]",
      "text/plain": [
       "<Figure size 432x288 with 1 Axes>"
      ]
     },
     "metadata": {
      "needs_background": "light"
     },
     "output_type": "display_data"
    }
   ],
   "source": [
    "dataset_copy = dataset[['carat', 'price']].copy() # Take a copy of dataset\n",
    "ax = dataset_copy.plot.scatter(x='carat', y='price', title='Price vs. Carat')\n",
    "ax.set(xlabel=\"Carat\", ylabel=\"Price\")\n",
    "plt.show()"
   ]
  }
 ],
 "metadata": {
  "kernelspec": {
   "display_name": "Python 3",
   "language": "python",
   "name": "python3"
  },
  "language_info": {
   "codemirror_mode": {
    "name": "ipython",
    "version": 3
   },
   "file_extension": ".py",
   "mimetype": "text/x-python",
   "name": "python",
   "nbconvert_exporter": "python",
   "pygments_lexer": "ipython3",
   "version": "3.7.1"
  }
 },
 "nbformat": 4,
 "nbformat_minor": 2
}
